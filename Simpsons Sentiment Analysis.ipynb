{
 "cells": [
  {
   "cell_type": "markdown",
   "metadata": {},
   "source": [
    "# Simpsons characters dialogs"
   ]
  },
  {
   "cell_type": "code",
   "execution_count": 151,
   "metadata": {},
   "outputs": [
    {
     "name": "stderr",
     "output_type": "stream",
     "text": [
      "[nltk_data] Downloading package vader_lexicon to\n",
      "[nltk_data]     /Users/TryAgain/nltk_data...\n",
      "[nltk_data]   Package vader_lexicon is already up-to-date!\n"
     ]
    }
   ],
   "source": [
    "import pandas as pd\n",
    "import numpy as np\n",
    "from flask import Flask, request\n",
    "from pymongo import MongoClient\n",
    "from bson.objectid import ObjectId\n",
    "from bson.json_util import dumps\n",
    "import ast\n",
    "import nltk\n",
    "nltk.download('vader_lexicon')\n",
    "from nltk.sentiment.vader import SentimentIntensityAnalyzer\n",
    "from sklearn.feature_extraction.text import CountVectorizer\n",
    "from sklearn.metrics.pairwise import cosine_similarity as distance\n",
    "import seaborn as sns"
   ]
  },
  {
   "cell_type": "code",
   "execution_count": 152,
   "metadata": {},
   "outputs": [],
   "source": [
    "sia = SentimentIntensityAnalyzer()"
   ]
  },
  {
   "cell_type": "code",
   "execution_count": 153,
   "metadata": {},
   "outputs": [],
   "source": [
    "client = MongoClient(\"mongodb://localhost/Conversations\")\n",
    "db = client.get_database()"
   ]
  },
  {
   "cell_type": "code",
   "execution_count": 74,
   "metadata": {},
   "outputs": [
    {
     "data": {
      "text/html": [
       "<div>\n",
       "<style scoped>\n",
       "    .dataframe tbody tr th:only-of-type {\n",
       "        vertical-align: middle;\n",
       "    }\n",
       "\n",
       "    .dataframe tbody tr th {\n",
       "        vertical-align: top;\n",
       "    }\n",
       "\n",
       "    .dataframe thead th {\n",
       "        text-align: right;\n",
       "    }\n",
       "</style>\n",
       "<table border=\"1\" class=\"dataframe\">\n",
       "  <thead>\n",
       "    <tr style=\"text-align: right;\">\n",
       "      <th></th>\n",
       "      <th>raw_character_text</th>\n",
       "      <th>spoken_words</th>\n",
       "    </tr>\n",
       "  </thead>\n",
       "  <tbody>\n",
       "    <tr>\n",
       "      <th>0</th>\n",
       "      <td>Miss Hoover</td>\n",
       "      <td>No, actually, it was a little of both. Sometim...</td>\n",
       "    </tr>\n",
       "    <tr>\n",
       "      <th>1</th>\n",
       "      <td>Lisa Simpson</td>\n",
       "      <td>Where's Mr. Bergstrom?</td>\n",
       "    </tr>\n",
       "    <tr>\n",
       "      <th>2</th>\n",
       "      <td>Miss Hoover</td>\n",
       "      <td>I don't know. Although I'd sure like to talk t...</td>\n",
       "    </tr>\n",
       "    <tr>\n",
       "      <th>3</th>\n",
       "      <td>Lisa Simpson</td>\n",
       "      <td>That life is worth living.</td>\n",
       "    </tr>\n",
       "    <tr>\n",
       "      <th>4</th>\n",
       "      <td>Edna Krabappel-Flanders</td>\n",
       "      <td>The polls will be open from now until the end ...</td>\n",
       "    </tr>\n",
       "  </tbody>\n",
       "</table>\n",
       "</div>"
      ],
      "text/plain": [
       "        raw_character_text                                       spoken_words\n",
       "0              Miss Hoover  No, actually, it was a little of both. Sometim...\n",
       "1             Lisa Simpson                             Where's Mr. Bergstrom?\n",
       "2              Miss Hoover  I don't know. Although I'd sure like to talk t...\n",
       "3             Lisa Simpson                         That life is worth living.\n",
       "4  Edna Krabappel-Flanders  The polls will be open from now until the end ..."
      ]
     },
     "execution_count": 74,
     "metadata": {},
     "output_type": "execute_result"
    }
   ],
   "source": [
    "df = pd.read_csv('input/simpsons_dataset.csv', engine = 'python')\n",
    "df.head()"
   ]
  },
  {
   "cell_type": "code",
   "execution_count": 75,
   "metadata": {},
   "outputs": [],
   "source": [
    "nombres = { \n",
    "    'raw_character_text':'Characters'\n",
    "}\n",
    "df = df.rename(columns=nombres)"
   ]
  },
  {
   "cell_type": "markdown",
   "metadata": {},
   "source": [
    "# Create characters groups"
   ]
  },
  {
   "cell_type": "code",
   "execution_count": 76,
   "metadata": {},
   "outputs": [
    {
     "data": {
      "text/html": [
       "<div>\n",
       "<style scoped>\n",
       "    .dataframe tbody tr th:only-of-type {\n",
       "        vertical-align: middle;\n",
       "    }\n",
       "\n",
       "    .dataframe tbody tr th {\n",
       "        vertical-align: top;\n",
       "    }\n",
       "\n",
       "    .dataframe thead th {\n",
       "        text-align: right;\n",
       "    }\n",
       "</style>\n",
       "<table border=\"1\" class=\"dataframe\">\n",
       "  <thead>\n",
       "    <tr style=\"text-align: right;\">\n",
       "      <th></th>\n",
       "      <th>Characters</th>\n",
       "      <th>spoken_words</th>\n",
       "    </tr>\n",
       "  </thead>\n",
       "  <tbody>\n",
       "    <tr>\n",
       "      <th>1</th>\n",
       "      <td>Lisa Simpson</td>\n",
       "      <td>Where's Mr. Bergstrom?</td>\n",
       "    </tr>\n",
       "    <tr>\n",
       "      <th>3</th>\n",
       "      <td>Lisa Simpson</td>\n",
       "      <td>That life is worth living.</td>\n",
       "    </tr>\n",
       "    <tr>\n",
       "      <th>5</th>\n",
       "      <td>Martin Prince</td>\n",
       "      <td>I don't think there's anything left to say.</td>\n",
       "    </tr>\n",
       "    <tr>\n",
       "      <th>7</th>\n",
       "      <td>Bart Simpson</td>\n",
       "      <td>Victory party under the slide!</td>\n",
       "    </tr>\n",
       "    <tr>\n",
       "      <th>9</th>\n",
       "      <td>Lisa Simpson</td>\n",
       "      <td>Mr. Bergstrom! Mr. Bergstrom!</td>\n",
       "    </tr>\n",
       "  </tbody>\n",
       "</table>\n",
       "</div>"
      ],
      "text/plain": [
       "      Characters                                 spoken_words\n",
       "1   Lisa Simpson                       Where's Mr. Bergstrom?\n",
       "3   Lisa Simpson                   That life is worth living.\n",
       "5  Martin Prince  I don't think there's anything left to say.\n",
       "7   Bart Simpson               Victory party under the slide!\n",
       "9   Lisa Simpson                Mr. Bergstrom! Mr. Bergstrom!"
      ]
     },
     "execution_count": 76,
     "metadata": {},
     "output_type": "execute_result"
    }
   ],
   "source": [
    "df = df = df.dropna()\n",
    "df = df[(df['Characters'].isin(('Homer Simpson', 'Marge Simpson', 'Bart Simpson', 'Lisa Simpson', 'Maggie Simpson', 'Abraham Simpson', 'Milhouse Van Houten', 'Ralph Wiggum', 'Nelson Muntz', 'Seymour Skinner', 'Edna Krabappel', 'Groundskeeper Willie', 'Jimbo Jones', 'Martin Prince', 'Moe Szyslak', 'Barney Gumble', 'Lenny Leonard', 'Carl Carlson')))]\n",
    "df.head()"
   ]
  },
  {
   "cell_type": "code",
   "execution_count": 77,
   "metadata": {},
   "outputs": [],
   "source": [
    "df['Groups'] = df['Groups'][df['Characters'].isin(('Homer Simpson', 'Marge Simpson', 'Bart Simpson', 'Lisa Simpson', 'Maggie Simpson', 'Abraham Simpson'))] = 'Home'\n",
    "df['Groups'][df['Characters'].isin(('Milhouse Van Houten', 'Ralph Wiggum', 'Nelson Muntz', 'Seymour Skinner', 'Edna Krabappel', 'Groundskeeper Willie', 'Jimbo Jones', 'Martin Prince'))] = 'School'\n",
    "df['Groups'][df['Characters'].isin(('Moe Szyslak', 'Barney Gumble', 'Lenny Leonard', 'Carl Carlson'))] = 'Bar'"
   ]
  },
  {
   "cell_type": "code",
   "execution_count": 78,
   "metadata": {},
   "outputs": [
    {
     "data": {
      "text/html": [
       "<div>\n",
       "<style scoped>\n",
       "    .dataframe tbody tr th:only-of-type {\n",
       "        vertical-align: middle;\n",
       "    }\n",
       "\n",
       "    .dataframe tbody tr th {\n",
       "        vertical-align: top;\n",
       "    }\n",
       "\n",
       "    .dataframe thead th {\n",
       "        text-align: right;\n",
       "    }\n",
       "</style>\n",
       "<table border=\"1\" class=\"dataframe\">\n",
       "  <thead>\n",
       "    <tr style=\"text-align: right;\">\n",
       "      <th></th>\n",
       "      <th>Characters</th>\n",
       "      <th>spoken_words</th>\n",
       "      <th>Groups</th>\n",
       "    </tr>\n",
       "  </thead>\n",
       "  <tbody>\n",
       "    <tr>\n",
       "      <th>1</th>\n",
       "      <td>Lisa Simpson</td>\n",
       "      <td>Where's Mr. Bergstrom?</td>\n",
       "      <td>Home</td>\n",
       "    </tr>\n",
       "    <tr>\n",
       "      <th>3</th>\n",
       "      <td>Lisa Simpson</td>\n",
       "      <td>That life is worth living.</td>\n",
       "      <td>Home</td>\n",
       "    </tr>\n",
       "    <tr>\n",
       "      <th>5</th>\n",
       "      <td>Martin Prince</td>\n",
       "      <td>I don't think there's anything left to say.</td>\n",
       "      <td>School</td>\n",
       "    </tr>\n",
       "    <tr>\n",
       "      <th>7</th>\n",
       "      <td>Bart Simpson</td>\n",
       "      <td>Victory party under the slide!</td>\n",
       "      <td>Home</td>\n",
       "    </tr>\n",
       "    <tr>\n",
       "      <th>9</th>\n",
       "      <td>Lisa Simpson</td>\n",
       "      <td>Mr. Bergstrom! Mr. Bergstrom!</td>\n",
       "      <td>Home</td>\n",
       "    </tr>\n",
       "  </tbody>\n",
       "</table>\n",
       "</div>"
      ],
      "text/plain": [
       "      Characters                                 spoken_words  Groups\n",
       "1   Lisa Simpson                       Where's Mr. Bergstrom?    Home\n",
       "3   Lisa Simpson                   That life is worth living.    Home\n",
       "5  Martin Prince  I don't think there's anything left to say.  School\n",
       "7   Bart Simpson               Victory party under the slide!    Home\n",
       "9   Lisa Simpson                Mr. Bergstrom! Mr. Bergstrom!    Home"
      ]
     },
     "execution_count": 78,
     "metadata": {},
     "output_type": "execute_result"
    }
   ],
   "source": [
    "df_reduced = df.head(100)\n",
    "df_reduced.head()"
   ]
  },
  {
   "cell_type": "code",
   "execution_count": 79,
   "metadata": {},
   "outputs": [],
   "source": [
    "ch = df[['Characters', 'Groups']].drop_duplicates()"
   ]
  },
  {
   "cell_type": "markdown",
   "metadata": {},
   "source": [
    "# Including Simpsons characters on MongoDB"
   ]
  },
  {
   "cell_type": "code",
   "execution_count": 80,
   "metadata": {},
   "outputs": [],
   "source": [
    "import requests"
   ]
  },
  {
   "cell_type": "code",
   "execution_count": 14,
   "metadata": {},
   "outputs": [
    {
     "name": "stdout",
     "output_type": "stream",
     "text": [
      "b'{\\n  \"user_id\": \"5e52c726b6fcdc030722c3cd\"\\n}\\n'\n"
     ]
    }
   ],
   "source": [
    "for index, row in ch.iterrows():\n",
    "    data = requests.get(f\"http://localhost:8800/user/create/{row['Characters']}/{row['Groups']}\").content\n",
    "print(data)"
   ]
  },
  {
   "cell_type": "markdown",
   "metadata": {},
   "source": [
    "# Creating chats"
   ]
  },
  {
   "cell_type": "code",
   "execution_count": 15,
   "metadata": {},
   "outputs": [
    {
     "name": "stdout",
     "output_type": "stream",
     "text": [
      "b'{\\n  \"Group\": \"Bar\"\\n}\\n'\n"
     ]
    }
   ],
   "source": [
    "for group in pd.unique(df_reduced['Groups']):\n",
    "    data = requests.get(f\"http://localhost:8800/chat/create/{group}\").content\n",
    "print(data)"
   ]
  },
  {
   "cell_type": "markdown",
   "metadata": {},
   "source": [
    "# Adding characters to chat"
   ]
  },
  {
   "cell_type": "code",
   "execution_count": 18,
   "metadata": {},
   "outputs": [
    {
     "name": "stdout",
     "output_type": "stream",
     "text": [
      "Lisa Simpson\n",
      "User added to the chat\n",
      "Martin Prince\n",
      "User added to the chat\n",
      "Bart Simpson\n",
      "User added to the chat\n",
      "Nelson Muntz\n",
      "User added to the chat\n",
      "Milhouse Van Houten\n",
      "User added to the chat\n",
      "Homer Simpson\n",
      "User added to the chat\n",
      "Marge Simpson\n",
      "User added to the chat\n",
      "Moe Szyslak\n",
      "User added to the chat\n"
     ]
    }
   ],
   "source": [
    "\n",
    "for character in pd.unique(df_reduced['Characters']):\n",
    "    print(character)\n",
    "    usersdata = requests.get(f\"http://localhost:8800/chat/adduser/{character}\").text\n",
    "    print(usersdata)"
   ]
  },
  {
   "cell_type": "markdown",
   "metadata": {},
   "source": [
    "# Adding messages to chat"
   ]
  },
  {
   "cell_type": "code",
   "execution_count": 19,
   "metadata": {},
   "outputs": [
    {
     "name": "stdout",
     "output_type": "stream",
     "text": [
      "b'Great. Included'\n"
     ]
    }
   ],
   "source": [
    "'''\n",
    "Characters from the same group will be on the same MongoDB document conversation\n",
    "'''\n",
    "for index, row in df_reduced.iterrows():  \n",
    "    data = requests.get(f\"http://localhost:8800/chat/{row['Groups']}/{row['Characters']}/{row['spoken_words']}\").content\n",
    "print(data)"
   ]
  },
  {
   "cell_type": "markdown",
   "metadata": {},
   "source": [
    "# Getting messages from chat"
   ]
  },
  {
   "cell_type": "code",
   "execution_count": 23,
   "metadata": {},
   "outputs": [
    {
     "name": "stdout",
     "output_type": "stream",
     "text": [
      "[{\"username\": \"Moe Szyslak\", \"message\": \"College boy.\"}]\n",
      "[{\"username\": \"Lisa Simpson\", \"message\": \"Where's Mr. Bergstrom\"}, {\"username\": \"Lisa Simpson\", \"message\": \"That life is worth living.\"}, {\"username\": \"Bart Simpson\", \"message\": \"Victory party under the slide!\"}, {\"username\": \"Lisa Simpson\", \"message\": \"Mr. Bergstrom! Mr. Bergstrom!\"}, {\"username\": \"Lisa Simpson\", \"message\": \"Do you know where I could find him\"}, {\"username\": \"Lisa Simpson\", \"message\": \"The train, how like him... traditional, yet environmentally sound.\"}, {\"username\": \"Lisa Simpson\", \"message\": \"I see he touched you, too.\"}, {\"username\": \"Bart Simpson\", \"message\": \"Hey, thanks for your vote, man.\"}, {\"username\": \"Bart Simpson\", \"message\": \"Well, you got that right. Thanks for your vote, girls.\"}, {\"username\": \"Bart Simpson\", \"message\": \"Well, don't sweat it. Just so long as a couple of people did... right, Milhouse\"}, {\"username\": \"Bart Simpson\", \"message\": \"Lewis\"}, {\"username\": \"Bart Simpson\", \"message\": \"Somebody must have voted.\"}, {\"username\": \"Bart Simpson\", \"message\": \"Uh oh.\"}, {\"username\": \"Bart Simpson\", \"message\": \"I demand a recount.\"}, {\"username\": \"Bart Simpson\", \"message\": \"No.\"}, {\"username\": \"Lisa Simpson\", \"message\": \"Mr. Bergstrom! Hey, Mr. Bergstrom!\"}, {\"username\": \"Lisa Simpson\", \"message\": \"Hey, Lisa, indeed.\"}, {\"username\": \"Lisa Simpson\", \"message\": \"Oh, I mean, were you just going to leave, just like that\"}, {\"username\": \"Lisa Simpson\", \"message\": \"You can't go! You're the best teacher I'll ever have.\"}, {\"username\": \"Lisa Simpson\", \"message\": \"Oh, please.\"}, {\"username\": \"Lisa Simpson\", \"message\": \"But I need you too.\"}, {\"username\": \"Lisa Simpson\", \"message\": \"I, I understand. Mr. Bergstrom, I'm going to miss you.\"}, {\"username\": \"Lisa Simpson\", \"message\": \"Thank you, Mr. Bergstrom.\"}, {\"username\": \"Lisa Simpson\", \"message\": \"So, I guess this is it\"}, {\"username\": \"Homer Simpson\", \"message\": \"Never thrown a party\"}, {\"username\": \"Homer Simpson\", \"message\": \"Bart didn't get one vote\"}, {\"username\": \"Lisa Simpson\", \"message\": \"Nothing.\"}, {\"username\": \"Marge Simpson\", \"message\": \"Lisa, tell your father.\"}, {\"username\": \"Lisa Simpson\", \"message\": \"Mr. Bergstrom left today.\"}, {\"username\": \"Homer Simpson\", \"message\": \"Oh.\"}, {\"username\": \"Lisa Simpson\", \"message\": \"He's gone. Forever.\"}, {\"username\": \"Homer Simpson\", \"message\": \"And\"}, {\"username\": \"Lisa Simpson\", \"message\": \"I didn't think you'd understand.\"}, {\"username\": \"Homer Simpson\", \"message\": \"Hey, just because I don't care doesn't mean I don't understand.\"}, {\"username\": \"Lisa Simpson\", \"message\": \"I'm glad I'm not crying because I would hate for you to think that what I'm about to say is based on emotion. But you, sir, are a baboon!\"}, {\"username\": \"Homer Simpson\", \"message\": \"Me\"}, {\"username\": \"Lisa Simpson\", \"message\": \"Yes, you! Baboon, baboon, baboon, baboon!\"}, {\"username\": \"Homer Simpson\", \"message\": \"I don't think you realize what you're saying.\"}, {\"username\": \"Lisa Simpson\", \"message\": \"Baboon!\"}, {\"username\": \"Bart Simpson\", \"message\": \"Whoa, somebody was bound to say it one day. I just can't believe it was her.\"}, {\"username\": \"Homer Simpson\", \"message\": \"Did you hear that, Marge\"}, {\"username\": \"Marge Simpson\", \"message\": \"Homer, you are not allowed to have hurt feelings right now. There's a little girl upstairs who needs you. Her confidence in her father is shaken, and no little girl can be happy unless she has faith in her Daddy.\"}, {\"username\": \"Homer Simpson\", \"message\": \"Go Away.\"}, {\"username\": \"Homer Simpson\", \"message\": \"Lisa, don't hold anything back. You can tell me. Are you crying because you called Daddy a baboon\"}, {\"username\": \"Lisa Simpson\", \"message\": \"No!\"}, {\"username\": \"Homer Simpson\", \"message\": \"Nuts.\"}, {\"username\": \"Homer Simpson\", \"message\": \"This isn't going well at all.\"}, {\"username\": \"Lisa Simpson\", \"message\": \"Look, if you just want me to forgive you --\"}, {\"username\": \"Homer Simpson\", \"message\": \"No, no, no. I just wish I knew what to say.\"}, {\"username\": \"Homer Simpson\", \"message\": \"Although, maybe this will help. Now you lost someone special and it hurts. I'm lucky because I never lost anyone special to me. Everyone special to me is under this roof.\"}, {\"username\": \"Marge Simpson\", \"message\": \"That was our wedding.\"}, {\"username\": \"Homer Simpson\", \"message\": \"Oh.\"}, {\"username\": \"Marge Simpson\", \"message\": \"Children, it's time for you to go to bed.\"}, {\"username\": \"Homer Simpson\", \"message\": \"It's true. Now, you'll have lots of special people in your life, Lisa. There's probably some place where they all get together, and the food is real good, and guys like me are serving drinks. Oh well, maybe I can't explain all this, but I can fix your doll house for you. At least, I'm good at monkey work. You know... monkey. You know what I mean\"}, {\"username\": \"Lisa Simpson\", \"message\": \"Yeah.\"}, {\"username\": \"Homer Simpson\", \"message\": \"I can hold these nails in place with my tail.\"}, {\"username\": \"Lisa Simpson\", \"message\": \"You're so silly.\"}, {\"username\": \"Homer Simpson\", \"message\": \"Gimme a banana.\"}, {\"username\": \"Lisa Simpson\", \"message\": \"I don't have any banana.\"}, {\"username\": \"Homer Simpson\", \"message\": \"Come on, you're holding out on me.\"}, {\"username\": \"Lisa Simpson\", \"message\": \"I'm sorry I called you a baboon, Dad.\"}, {\"username\": \"Homer Simpson\", \"message\": \"Think nothing of it.\"}, {\"username\": \"Homer Simpson\", \"message\": \"Hey, what's the matter, son\"}, {\"username\": \"Bart Simpson\", \"message\": \"Ah, Dad, if just me, Milhouse and Lewis had voted...\"}, {\"username\": \"Homer Simpson\", \"message\": \"Hey son, would you have gotten any money for being class president\"}, {\"username\": \"Bart Simpson\", \"message\": \"No.\"}, {\"username\": \"Homer Simpson\", \"message\": \"Would you have to do extra work\"}, {\"username\": \"Bart Simpson\", \"message\": \"Yeah.\"}, {\"username\": \"Homer Simpson\", \"message\": \"And is this Martin guy going to get to do anything neat, like throw out the first ball at the world series, huh\"}, {\"username\": \"Bart Simpson\", \"message\": \"Well, no.\"}, {\"username\": \"Homer Simpson\", \"message\": \"So, let the baby have his bottle, huh\"}, {\"username\": \"Bart Simpson\", \"message\": \"Hey! Thanks, monkey-man.\"}, {\"username\": \"Homer Simpson\", \"message\": \"Holy-moly... talk about parenting!\"}, {\"username\": \"Homer Simpson\", \"message\": \"Uh oh.\"}, {\"username\": \"Homer Simpson\", \"message\": \"Sleep well, Maggie. Ah, three for three.\"}, {\"username\": \"Marge Simpson\", \"message\": \"Homie, did you straighten everything out...\"}, {\"username\": \"Homer Simpson\", \"message\": \"Up... up... up... up... up... up. Don't say anything, Marge. Let's just go to bed. I'm on the biggest roll of my life.\"}, {\"username\": \"Homer Simpson\", \"message\": \"Mmm... hors doovers.\"}, {\"username\": \"Marge Simpson\", \"message\": \"Homer! You promised!\"}, {\"username\": \"Homer Simpson\", \"message\": \"I promised I wouldn't eat\"}, {\"username\": \"Marge Simpson\", \"message\": \"Homer, please. We've never thrown a party. Now we're gonna pay back all the friends who've invited us to their homes.\"}, {\"username\": \"Lisa Simpson\", \"message\": \"But Mom, I want to hear the witty banter of sophisticated adults.\"}, {\"username\": \"Bart Simpson\", \"message\": \"Yeah, you can't have any fun in bed.\"}, {\"username\": \"Homer Simpson\", \"message\": \"Oh son, when you're older, you'll know better.\"}, {\"username\": \"Homer Simpson\", \"message\": \"Hmmm. Oh, baby! Mmmm. Yeah.\"}, {\"username\": \"Marge Simpson\", \"message\": \"Oh! They're here! How does everything look\"}, {\"username\": \"Homer Simpson\", \"message\": \"How do I look\"}, {\"username\": \"Marge Simpson\", \"message\": \"Do we have enough glasses\"}, {\"username\": \"Homer Simpson\", \"message\": \"Do we have enough gag ice cubs\"}, {\"username\": \"Marge Simpson\", \"message\": \"Homer! Homer! Put a record on!\"}, {\"username\": \"Homer Simpson\", \"message\": \"What are all our friends names again\"}, {\"username\": \"Marge Simpson\", \"message\": \"Children! Go!\"}, {\"username\": \"Homer Simpson\", \"message\": \"Why not\"}, {\"username\": \"Homer Simpson\", \"message\": \"Hey, Flanders, next time why don't you put a little alcohol in it\"}, {\"username\": \"Homer Simpson\", \"message\": \"Really\"}]\n",
      "[{\"username\": \"Martin Prince\", \"message\": \"I don't think there's anything left to say.\"}, {\"username\": \"Nelson Muntz\", \"message\": \"I didn't vote. Voting's for geeks.\"}, {\"username\": \"Milhouse Van Houten\", \"message\": \"Uh oh.\"}, {\"username\": \"Milhouse Van Houten\", \"message\": \"What about you, Bart\"}]\n"
     ]
    }
   ],
   "source": [
    "#If you wanna have username + message:\n",
    "groups = db['Conversations'].distinct('Group')\n",
    "\n",
    "for group in groups:\n",
    "    conversations = requests.get(f\"http://localhost:8800/chat/{group}/list\").text\n",
    "\n",
    "    print(conversations)\n",
    "\n"
   ]
  },
  {
   "cell_type": "code",
   "execution_count": 24,
   "metadata": {},
   "outputs": [
    {
     "name": "stdout",
     "output_type": "stream",
     "text": [
      "[\"College boy.\"]\n",
      "[\"Where's Mr. Bergstrom\", \"That life is worth living.\", \"Victory party under the slide!\", \"Mr. Bergstrom! Mr. Bergstrom!\", \"Do you know where I could find him\", \"The train, how like him... traditional, yet environmentally sound.\", \"I see he touched you, too.\", \"Hey, thanks for your vote, man.\", \"Well, you got that right. Thanks for your vote, girls.\", \"Well, don't sweat it. Just so long as a couple of people did... right, Milhouse\", \"Lewis\", \"Somebody must have voted.\", \"Uh oh.\", \"I demand a recount.\", \"No.\", \"Mr. Bergstrom! Hey, Mr. Bergstrom!\", \"Hey, Lisa, indeed.\", \"Oh, I mean, were you just going to leave, just like that\", \"You can't go! You're the best teacher I'll ever have.\", \"Oh, please.\", \"But I need you too.\", \"I, I understand. Mr. Bergstrom, I'm going to miss you.\", \"Thank you, Mr. Bergstrom.\", \"So, I guess this is it\", \"Never thrown a party\", \"Bart didn't get one vote\", \"Nothing.\", \"Lisa, tell your father.\", \"Mr. Bergstrom left today.\", \"Oh.\", \"He's gone. Forever.\", \"And\", \"I didn't think you'd understand.\", \"Hey, just because I don't care doesn't mean I don't understand.\", \"I'm glad I'm not crying because I would hate for you to think that what I'm about to say is based on emotion. But you, sir, are a baboon!\", \"Me\", \"Yes, you! Baboon, baboon, baboon, baboon!\", \"I don't think you realize what you're saying.\", \"Baboon!\", \"Whoa, somebody was bound to say it one day. I just can't believe it was her.\", \"Did you hear that, Marge\", \"Homer, you are not allowed to have hurt feelings right now. There's a little girl upstairs who needs you. Her confidence in her father is shaken, and no little girl can be happy unless she has faith in her Daddy.\", \"Go Away.\", \"Lisa, don't hold anything back. You can tell me. Are you crying because you called Daddy a baboon\", \"No!\", \"Nuts.\", \"This isn't going well at all.\", \"Look, if you just want me to forgive you --\", \"No, no, no. I just wish I knew what to say.\", \"Although, maybe this will help. Now you lost someone special and it hurts. I'm lucky because I never lost anyone special to me. Everyone special to me is under this roof.\", \"That was our wedding.\", \"Oh.\", \"Children, it's time for you to go to bed.\", \"It's true. Now, you'll have lots of special people in your life, Lisa. There's probably some place where they all get together, and the food is real good, and guys like me are serving drinks. Oh well, maybe I can't explain all this, but I can fix your doll house for you. At least, I'm good at monkey work. You know... monkey. You know what I mean\", \"Yeah.\", \"I can hold these nails in place with my tail.\", \"You're so silly.\", \"Gimme a banana.\", \"I don't have any banana.\", \"Come on, you're holding out on me.\", \"I'm sorry I called you a baboon, Dad.\", \"Think nothing of it.\", \"Hey, what's the matter, son\", \"Ah, Dad, if just me, Milhouse and Lewis had voted...\", \"Hey son, would you have gotten any money for being class president\", \"No.\", \"Would you have to do extra work\", \"Yeah.\", \"And is this Martin guy going to get to do anything neat, like throw out the first ball at the world series, huh\", \"Well, no.\", \"So, let the baby have his bottle, huh\", \"Hey! Thanks, monkey-man.\", \"Holy-moly... talk about parenting!\", \"Uh oh.\", \"Sleep well, Maggie. Ah, three for three.\", \"Homie, did you straighten everything out...\", \"Up... up... up... up... up... up. Don't say anything, Marge. Let's just go to bed. I'm on the biggest roll of my life.\", \"Mmm... hors doovers.\", \"Homer! You promised!\", \"I promised I wouldn't eat\", \"Homer, please. We've never thrown a party. Now we're gonna pay back all the friends who've invited us to their homes.\", \"But Mom, I want to hear the witty banter of sophisticated adults.\", \"Yeah, you can't have any fun in bed.\", \"Oh son, when you're older, you'll know better.\", \"Hmmm. Oh, baby! Mmmm. Yeah.\", \"Oh! They're here! How does everything look\", \"How do I look\", \"Do we have enough glasses\", \"Do we have enough gag ice cubs\", \"Homer! Homer! Put a record on!\", \"What are all our friends names again\", \"Children! Go!\", \"Why not\", \"Hey, Flanders, next time why don't you put a little alcohol in it\", \"Really\"]\n",
      "[\"I don't think there's anything left to say.\", \"I didn't vote. Voting's for geeks.\", \"Uh oh.\", \"What about you, Bart\"]\n"
     ]
    }
   ],
   "source": [
    "#If you wanna have a list with messages:\n",
    "groups = db['Conversations'].distinct('Group')\n",
    "\n",
    "for group in groups:\n",
    "    messages = requests.get(f\"http://localhost:8800/chat/{group}/userlist\").text\n",
    "\n",
    "    print(messages)"
   ]
  },
  {
   "cell_type": "markdown",
   "metadata": {},
   "source": [
    "# Sentiment analysis"
   ]
  },
  {
   "cell_type": "code",
   "execution_count": 28,
   "metadata": {},
   "outputs": [
    {
     "name": "stdout",
     "output_type": "stream",
     "text": [
      "For the group  Bar  the sentiment is  {\n",
      "  \"compound\": 0.0, \n",
      "  \"neg\": 0.0, \n",
      "  \"neu\": 1.0, \n",
      "  \"pos\": 0.0\n",
      "}\n",
      "\n",
      "For the group  Home  the sentiment is  {\n",
      "  \"compound\": 0.9927, \n",
      "  \"neg\": 0.052, \n",
      "  \"neu\": 0.836, \n",
      "  \"pos\": 0.112\n",
      "}\n",
      "\n",
      "For the group  School  the sentiment is  {\n",
      "  \"compound\": 0.0, \n",
      "  \"neg\": 0.0, \n",
      "  \"neu\": 1.0, \n",
      "  \"pos\": 0.0\n",
      "}\n",
      "\n"
     ]
    }
   ],
   "source": [
    "#Group sentiment analysis\n",
    "groups = db['Conversations'].distinct('Group')\n",
    "for group in groups:\n",
    "    sentiment = requests.get(f\"http://localhost:8800/chat/{group}/sentimentgroup\").text\n",
    "\n",
    "    print('For the group ',group,' the sentiment is ', sentiment)"
   ]
  },
  {
   "cell_type": "code",
   "execution_count": 169,
   "metadata": {},
   "outputs": [
    {
     "name": "stdout",
     "output_type": "stream",
     "text": [
      "Bart Simpson {\n",
      "  \"compound\": 0.8308, \n",
      "  \"neg\": 0.052, \n",
      "  \"neu\": 0.801, \n",
      "  \"pos\": 0.148\n",
      "}\n",
      "\n",
      "Homer Simpson {\n",
      "  \"compound\": 0.9643, \n",
      "  \"neg\": 0.061, \n",
      "  \"neu\": 0.818, \n",
      "  \"pos\": 0.12\n",
      "}\n",
      "\n",
      "Lisa Simpson {\n",
      "  \"compound\": 0.954, \n",
      "  \"neg\": 0.048, \n",
      "  \"neu\": 0.792, \n",
      "  \"pos\": 0.16\n",
      "}\n",
      "\n",
      "Marge Simpson {\n",
      "  \"compound\": 0.8321, \n",
      "  \"neg\": 0.095, \n",
      "  \"neu\": 0.757, \n",
      "  \"pos\": 0.148\n",
      "}\n",
      "\n",
      "Martin Prince {\n",
      "  \"compound\": 0.0, \n",
      "  \"neg\": 0.0, \n",
      "  \"neu\": 0.0, \n",
      "  \"pos\": 0.0\n",
      "}\n",
      "\n",
      "Milhouse Van Houten {\n",
      "  \"compound\": 0.0, \n",
      "  \"neg\": 0.0, \n",
      "  \"neu\": 0.0, \n",
      "  \"pos\": 0.0\n",
      "}\n",
      "\n",
      "Moe Szyslak {\n",
      "  \"compound\": 0.0, \n",
      "  \"neg\": 0.0, \n",
      "  \"neu\": 0.0, \n",
      "  \"pos\": 0.0\n",
      "}\n",
      "\n",
      "Nelson Muntz {\n",
      "  \"compound\": 0.0, \n",
      "  \"neg\": 0.0, \n",
      "  \"neu\": 0.0, \n",
      "  \"pos\": 0.0\n",
      "}\n",
      "\n"
     ]
    }
   ],
   "source": [
    "#Error. Revisar\n",
    "#Character sentiment analysis\n",
    "\n",
    "characters = [character['username'] for character in list(db['Conversations'].distinct('Characters'))]\n",
    "for character in characters:\n",
    "    sentimentCharac = requests.get(f\"http://localhost:8800/chat/{character}/sentimentcharacter\").text\n",
    "    print(character, sentimentCharac)"
   ]
  },
  {
   "cell_type": "code",
   "execution_count": 168,
   "metadata": {},
   "outputs": [
    {
     "name": "stdout",
     "output_type": "stream",
     "text": [
      "Lisa Simpson {\n",
      "  \"compound\": 0.954, \n",
      "  \"neg\": 0.048, \n",
      "  \"neu\": 0.792, \n",
      "  \"pos\": 0.16\n",
      "}\n",
      "\n"
     ]
    }
   ],
   "source": [
    "character='Lisa Simpson'\n",
    "\n",
    "sentimentCharac = requests.get(f\"http://localhost:8800/chat/{character}/sentimentcharacter\").text\n",
    "print(character, sentimentCharac)"
   ]
  },
  {
   "cell_type": "markdown",
   "metadata": {},
   "source": [
    "# Recommending an user"
   ]
  },
  {
   "cell_type": "code",
   "execution_count": 171,
   "metadata": {},
   "outputs": [
    {
     "name": "stdout",
     "output_type": "stream",
     "text": [
      "For  Bart Simpson  we recommend  Homer Simpson\n",
      "For  Homer Simpson  we recommend  Lisa Simpson\n",
      "For  Lisa Simpson  we recommend  Homer Simpson\n",
      "For  Marge Simpson  we recommend  Homer Simpson\n",
      "For  Martin Prince  we recommend  Homer Simpson\n",
      "For  Milhouse Van Houten  we recommend  Homer Simpson\n",
      "For  Moe Szyslak  we recommend  Bart Simpson\n",
      "For  Nelson Muntz  we recommend  Bart Simpson\n"
     ]
    }
   ],
   "source": [
    "characters = [character['username'] for character in list(db['Conversations'].distinct('Characters'))]\n",
    "for username in characters:\n",
    "    recomCharac = requests.get(f\"http://localhost:8800/user/{username}/recommend\").text\n",
    "    print('For ', username, ' we recommend ', recomCharac)"
   ]
  }
 ],
 "metadata": {
  "kernelspec": {
   "display_name": "Python 3",
   "language": "python",
   "name": "python3"
  },
  "language_info": {
   "codemirror_mode": {
    "name": "ipython",
    "version": 3
   },
   "file_extension": ".py",
   "mimetype": "text/x-python",
   "name": "python",
   "nbconvert_exporter": "python",
   "pygments_lexer": "ipython3",
   "version": "3.7.5"
  }
 },
 "nbformat": 4,
 "nbformat_minor": 4
}
