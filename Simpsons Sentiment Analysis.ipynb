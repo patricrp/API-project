{
 "cells": [
  {
   "cell_type": "markdown",
   "metadata": {},
   "source": [
    "# Simpsons characters dialogs"
   ]
  },
  {
   "cell_type": "code",
   "execution_count": 73,
   "metadata": {},
   "outputs": [],
   "source": [
    "import pandas as pd\n",
    "from flask import Flask, request"
   ]
  },
  {
   "cell_type": "code",
   "execution_count": 74,
   "metadata": {},
   "outputs": [
    {
     "data": {
      "text/html": [
       "<div>\n",
       "<style scoped>\n",
       "    .dataframe tbody tr th:only-of-type {\n",
       "        vertical-align: middle;\n",
       "    }\n",
       "\n",
       "    .dataframe tbody tr th {\n",
       "        vertical-align: top;\n",
       "    }\n",
       "\n",
       "    .dataframe thead th {\n",
       "        text-align: right;\n",
       "    }\n",
       "</style>\n",
       "<table border=\"1\" class=\"dataframe\">\n",
       "  <thead>\n",
       "    <tr style=\"text-align: right;\">\n",
       "      <th></th>\n",
       "      <th>raw_character_text</th>\n",
       "      <th>spoken_words</th>\n",
       "    </tr>\n",
       "  </thead>\n",
       "  <tbody>\n",
       "    <tr>\n",
       "      <th>0</th>\n",
       "      <td>Miss Hoover</td>\n",
       "      <td>No, actually, it was a little of both. Sometim...</td>\n",
       "    </tr>\n",
       "    <tr>\n",
       "      <th>1</th>\n",
       "      <td>Lisa Simpson</td>\n",
       "      <td>Where's Mr. Bergstrom?</td>\n",
       "    </tr>\n",
       "    <tr>\n",
       "      <th>2</th>\n",
       "      <td>Miss Hoover</td>\n",
       "      <td>I don't know. Although I'd sure like to talk t...</td>\n",
       "    </tr>\n",
       "    <tr>\n",
       "      <th>3</th>\n",
       "      <td>Lisa Simpson</td>\n",
       "      <td>That life is worth living.</td>\n",
       "    </tr>\n",
       "    <tr>\n",
       "      <th>4</th>\n",
       "      <td>Edna Krabappel-Flanders</td>\n",
       "      <td>The polls will be open from now until the end ...</td>\n",
       "    </tr>\n",
       "  </tbody>\n",
       "</table>\n",
       "</div>"
      ],
      "text/plain": [
       "        raw_character_text                                       spoken_words\n",
       "0              Miss Hoover  No, actually, it was a little of both. Sometim...\n",
       "1             Lisa Simpson                             Where's Mr. Bergstrom?\n",
       "2              Miss Hoover  I don't know. Although I'd sure like to talk t...\n",
       "3             Lisa Simpson                         That life is worth living.\n",
       "4  Edna Krabappel-Flanders  The polls will be open from now until the end ..."
      ]
     },
     "execution_count": 74,
     "metadata": {},
     "output_type": "execute_result"
    }
   ],
   "source": [
    "df = pd.read_csv('input/simpsons_dataset.csv', engine = 'python')\n",
    "df.head()"
   ]
  },
  {
   "cell_type": "code",
   "execution_count": 75,
   "metadata": {},
   "outputs": [],
   "source": [
    "nombres = { \n",
    "    'raw_character_text':'Characters',\n",
    "    'spoken_works':'Text'\n",
    "}\n",
    "df = df.rename(columns=nombres)"
   ]
  },
  {
   "cell_type": "markdown",
   "metadata": {},
   "source": [
    "# Create characters groups"
   ]
  },
  {
   "cell_type": "code",
   "execution_count": 76,
   "metadata": {},
   "outputs": [
    {
     "data": {
      "text/html": [
       "<div>\n",
       "<style scoped>\n",
       "    .dataframe tbody tr th:only-of-type {\n",
       "        vertical-align: middle;\n",
       "    }\n",
       "\n",
       "    .dataframe tbody tr th {\n",
       "        vertical-align: top;\n",
       "    }\n",
       "\n",
       "    .dataframe thead th {\n",
       "        text-align: right;\n",
       "    }\n",
       "</style>\n",
       "<table border=\"1\" class=\"dataframe\">\n",
       "  <thead>\n",
       "    <tr style=\"text-align: right;\">\n",
       "      <th></th>\n",
       "      <th>Characters</th>\n",
       "      <th>spoken_words</th>\n",
       "    </tr>\n",
       "  </thead>\n",
       "  <tbody>\n",
       "    <tr>\n",
       "      <th>1</th>\n",
       "      <td>Lisa Simpson</td>\n",
       "      <td>Where's Mr. Bergstrom?</td>\n",
       "    </tr>\n",
       "    <tr>\n",
       "      <th>3</th>\n",
       "      <td>Lisa Simpson</td>\n",
       "      <td>That life is worth living.</td>\n",
       "    </tr>\n",
       "    <tr>\n",
       "      <th>5</th>\n",
       "      <td>Martin Prince</td>\n",
       "      <td>I don't think there's anything left to say.</td>\n",
       "    </tr>\n",
       "    <tr>\n",
       "      <th>7</th>\n",
       "      <td>Bart Simpson</td>\n",
       "      <td>Victory party under the slide!</td>\n",
       "    </tr>\n",
       "    <tr>\n",
       "      <th>9</th>\n",
       "      <td>Lisa Simpson</td>\n",
       "      <td>Mr. Bergstrom! Mr. Bergstrom!</td>\n",
       "    </tr>\n",
       "  </tbody>\n",
       "</table>\n",
       "</div>"
      ],
      "text/plain": [
       "      Characters                                 spoken_words\n",
       "1   Lisa Simpson                       Where's Mr. Bergstrom?\n",
       "3   Lisa Simpson                   That life is worth living.\n",
       "5  Martin Prince  I don't think there's anything left to say.\n",
       "7   Bart Simpson               Victory party under the slide!\n",
       "9   Lisa Simpson                Mr. Bergstrom! Mr. Bergstrom!"
      ]
     },
     "execution_count": 76,
     "metadata": {},
     "output_type": "execute_result"
    }
   ],
   "source": [
    "df = df = df.dropna()\n",
    "df = df[(df['Characters'].isin(('Homer Simpson', 'Marge Simpson', 'Bart Simpson', 'Lisa Simpson', 'Maggie Simpson', 'Abraham Simpson', 'Milhouse Van Houten', 'Ralph Wiggum', 'Nelson Muntz', 'Seymour Skinner', 'Edna Krabappel', 'Groundskeeper Willie', 'Jimbo Jones', 'Martin Prince', 'Moe Szyslak', 'Barney Gumble', 'Lenny Leonard', 'Carl Carlson')))]\n",
    "df.head()"
   ]
  },
  {
   "cell_type": "code",
   "execution_count": 77,
   "metadata": {},
   "outputs": [],
   "source": [
    "df['Groups'] = df['Groups'][df['Characters'].isin(('Homer Simpson', 'Marge Simpson', 'Bart Simpson', 'Lisa Simpson', 'Maggie Simpson', 'Abraham Simpson'))] = 'Home'\n",
    "df['Groups'][df['Characters'].isin(('Milhouse Van Houten', 'Ralph Wiggum', 'Nelson Muntz', 'Seymour Skinner', 'Edna Krabappel', 'Groundskeeper Willie', 'Jimbo Jones', 'Martin Prince'))] = 'School'\n",
    "df['Groups'][df['Characters'].isin(('Moe Szyslak', 'Barney Gumble', 'Lenny Leonard', 'Carl Carlson'))] = 'Bar'"
   ]
  },
  {
   "cell_type": "code",
   "execution_count": 78,
   "metadata": {},
   "outputs": [
    {
     "data": {
      "text/html": [
       "<div>\n",
       "<style scoped>\n",
       "    .dataframe tbody tr th:only-of-type {\n",
       "        vertical-align: middle;\n",
       "    }\n",
       "\n",
       "    .dataframe tbody tr th {\n",
       "        vertical-align: top;\n",
       "    }\n",
       "\n",
       "    .dataframe thead th {\n",
       "        text-align: right;\n",
       "    }\n",
       "</style>\n",
       "<table border=\"1\" class=\"dataframe\">\n",
       "  <thead>\n",
       "    <tr style=\"text-align: right;\">\n",
       "      <th></th>\n",
       "      <th>Characters</th>\n",
       "      <th>spoken_words</th>\n",
       "      <th>Groups</th>\n",
       "    </tr>\n",
       "  </thead>\n",
       "  <tbody>\n",
       "    <tr>\n",
       "      <th>1</th>\n",
       "      <td>Lisa Simpson</td>\n",
       "      <td>Where's Mr. Bergstrom?</td>\n",
       "      <td>Home</td>\n",
       "    </tr>\n",
       "    <tr>\n",
       "      <th>3</th>\n",
       "      <td>Lisa Simpson</td>\n",
       "      <td>That life is worth living.</td>\n",
       "      <td>Home</td>\n",
       "    </tr>\n",
       "    <tr>\n",
       "      <th>5</th>\n",
       "      <td>Martin Prince</td>\n",
       "      <td>I don't think there's anything left to say.</td>\n",
       "      <td>School</td>\n",
       "    </tr>\n",
       "    <tr>\n",
       "      <th>7</th>\n",
       "      <td>Bart Simpson</td>\n",
       "      <td>Victory party under the slide!</td>\n",
       "      <td>Home</td>\n",
       "    </tr>\n",
       "    <tr>\n",
       "      <th>9</th>\n",
       "      <td>Lisa Simpson</td>\n",
       "      <td>Mr. Bergstrom! Mr. Bergstrom!</td>\n",
       "      <td>Home</td>\n",
       "    </tr>\n",
       "  </tbody>\n",
       "</table>\n",
       "</div>"
      ],
      "text/plain": [
       "      Characters                                 spoken_words  Groups\n",
       "1   Lisa Simpson                       Where's Mr. Bergstrom?    Home\n",
       "3   Lisa Simpson                   That life is worth living.    Home\n",
       "5  Martin Prince  I don't think there's anything left to say.  School\n",
       "7   Bart Simpson               Victory party under the slide!    Home\n",
       "9   Lisa Simpson                Mr. Bergstrom! Mr. Bergstrom!    Home"
      ]
     },
     "execution_count": 78,
     "metadata": {},
     "output_type": "execute_result"
    }
   ],
   "source": [
    "df_reduced = df.head(100)\n",
    "df_reduced.head()"
   ]
  },
  {
   "cell_type": "markdown",
   "metadata": {},
   "source": [
    "# Including Simpsons characters on MongoDB"
   ]
  },
  {
   "cell_type": "code",
   "execution_count": 69,
   "metadata": {},
   "outputs": [],
   "source": [
    "import requests"
   ]
  },
  {
   "cell_type": "code",
   "execution_count": 98,
   "metadata": {},
   "outputs": [
    {
     "data": {
      "text/html": [
       "<div>\n",
       "<style scoped>\n",
       "    .dataframe tbody tr th:only-of-type {\n",
       "        vertical-align: middle;\n",
       "    }\n",
       "\n",
       "    .dataframe tbody tr th {\n",
       "        vertical-align: top;\n",
       "    }\n",
       "\n",
       "    .dataframe thead th {\n",
       "        text-align: right;\n",
       "    }\n",
       "</style>\n",
       "<table border=\"1\" class=\"dataframe\">\n",
       "  <thead>\n",
       "    <tr style=\"text-align: right;\">\n",
       "      <th></th>\n",
       "      <th>Characters</th>\n",
       "      <th>Groups</th>\n",
       "    </tr>\n",
       "  </thead>\n",
       "  <tbody>\n",
       "    <tr>\n",
       "      <th>1</th>\n",
       "      <td>Lisa Simpson</td>\n",
       "      <td>Home</td>\n",
       "    </tr>\n",
       "    <tr>\n",
       "      <th>5</th>\n",
       "      <td>Martin Prince</td>\n",
       "      <td>School</td>\n",
       "    </tr>\n",
       "    <tr>\n",
       "      <th>7</th>\n",
       "      <td>Bart Simpson</td>\n",
       "      <td>Home</td>\n",
       "    </tr>\n",
       "    <tr>\n",
       "      <th>18</th>\n",
       "      <td>Nelson Muntz</td>\n",
       "      <td>School</td>\n",
       "    </tr>\n",
       "    <tr>\n",
       "      <th>22</th>\n",
       "      <td>Milhouse Van Houten</td>\n",
       "      <td>School</td>\n",
       "    </tr>\n",
       "    <tr>\n",
       "      <th>57</th>\n",
       "      <td>Homer Simpson</td>\n",
       "      <td>Home</td>\n",
       "    </tr>\n",
       "    <tr>\n",
       "      <th>60</th>\n",
       "      <td>Marge Simpson</td>\n",
       "      <td>Home</td>\n",
       "    </tr>\n",
       "    <tr>\n",
       "      <th>128</th>\n",
       "      <td>Moe Szyslak</td>\n",
       "      <td>Bar</td>\n",
       "    </tr>\n",
       "    <tr>\n",
       "      <th>139</th>\n",
       "      <td>Barney Gumble</td>\n",
       "      <td>Bar</td>\n",
       "    </tr>\n",
       "    <tr>\n",
       "      <th>473</th>\n",
       "      <td>Jimbo Jones</td>\n",
       "      <td>School</td>\n",
       "    </tr>\n",
       "    <tr>\n",
       "      <th>813</th>\n",
       "      <td>Carl Carlson</td>\n",
       "      <td>Bar</td>\n",
       "    </tr>\n",
       "    <tr>\n",
       "      <th>814</th>\n",
       "      <td>Lenny Leonard</td>\n",
       "      <td>Bar</td>\n",
       "    </tr>\n",
       "    <tr>\n",
       "      <th>2047</th>\n",
       "      <td>Ralph Wiggum</td>\n",
       "      <td>School</td>\n",
       "    </tr>\n",
       "    <tr>\n",
       "      <th>2049</th>\n",
       "      <td>Seymour Skinner</td>\n",
       "      <td>School</td>\n",
       "    </tr>\n",
       "    <tr>\n",
       "      <th>2206</th>\n",
       "      <td>Groundskeeper Willie</td>\n",
       "      <td>School</td>\n",
       "    </tr>\n",
       "    <tr>\n",
       "      <th>11060</th>\n",
       "      <td>Maggie Simpson</td>\n",
       "      <td>Home</td>\n",
       "    </tr>\n",
       "  </tbody>\n",
       "</table>\n",
       "</div>"
      ],
      "text/plain": [
       "                 Characters  Groups\n",
       "1              Lisa Simpson    Home\n",
       "5             Martin Prince  School\n",
       "7              Bart Simpson    Home\n",
       "18             Nelson Muntz  School\n",
       "22      Milhouse Van Houten  School\n",
       "57            Homer Simpson    Home\n",
       "60            Marge Simpson    Home\n",
       "128             Moe Szyslak     Bar\n",
       "139           Barney Gumble     Bar\n",
       "473             Jimbo Jones  School\n",
       "813            Carl Carlson     Bar\n",
       "814           Lenny Leonard     Bar\n",
       "2047           Ralph Wiggum  School\n",
       "2049        Seymour Skinner  School\n",
       "2206   Groundskeeper Willie  School\n",
       "11060        Maggie Simpson    Home"
      ]
     },
     "execution_count": 98,
     "metadata": {},
     "output_type": "execute_result"
    }
   ],
   "source": [
    "ch = df[['Characters', 'Groups']].drop_duplicates()\n",
    "ch"
   ]
  },
  {
   "cell_type": "code",
   "execution_count": 70,
   "metadata": {},
   "outputs": [
    {
     "name": "stdout",
     "output_type": "stream",
     "text": [
      "b'\\n    <img src=\"https://cdn.memegenerator.es/imagenes/memes/full/4/19/4199711.jpg\">\\n    '\n"
     ]
    }
   ],
   "source": [
    "for character in pd.unique(df_reduced['Characters']):\n",
    "    data = requests.get(f\"http://localhost:8800/user/create/{character}\").content\n",
    "print(data)"
   ]
  },
  {
   "cell_type": "markdown",
   "metadata": {},
   "source": [
    "# Creating chats"
   ]
  },
  {
   "cell_type": "code",
   "execution_count": 104,
   "metadata": {},
   "outputs": [
    {
     "name": "stdout",
     "output_type": "stream",
     "text": [
      "b'{\\n  \"Group\": \"Bar\"\\n}\\n'\n"
     ]
    }
   ],
   "source": [
    "for group in pd.unique(df_reduced['Groups']):\n",
    "    data = requests.get(f\"http://localhost:8800/chat/create/{group}\").content\n",
    "print(data)"
   ]
  },
  {
   "cell_type": "markdown",
   "metadata": {},
   "source": [
    "# Adding characters to chat"
   ]
  },
  {
   "cell_type": "code",
   "execution_count": 103,
   "metadata": {},
   "outputs": [
    {
     "name": "stdout",
     "output_type": "stream",
     "text": [
      "Lisa Simpson Home\n",
      "b'{\\n  \"user_id\": \"5e51b56d5fa34008598fc6af\"\\n}\\n'\n",
      "Martin Prince School\n",
      "b'{\\n  \"user_id\": \"5e51b56d5fa34008598fc6b0\"\\n}\\n'\n",
      "Bart Simpson Home\n",
      "b'{\\n  \"user_id\": \"5e51b56d5fa34008598fc6b1\"\\n}\\n'\n",
      "Nelson Muntz School\n",
      "b'{\\n  \"user_id\": \"5e51b56d5fa34008598fc6b2\"\\n}\\n'\n",
      "Milhouse Van Houten School\n",
      "b'{\\n  \"user_id\": \"5e51b56d5fa34008598fc6b3\"\\n}\\n'\n",
      "Homer Simpson Home\n",
      "b'{\\n  \"user_id\": \"5e51b56d5fa34008598fc6b4\"\\n}\\n'\n",
      "Marge Simpson Home\n",
      "b'{\\n  \"user_id\": \"5e51b56d5fa34008598fc6b5\"\\n}\\n'\n",
      "Moe Szyslak Bar\n",
      "b'{\\n  \"user_id\": \"5e51b56d5fa34008598fc6b6\"\\n}\\n'\n",
      "Barney Gumble Bar\n",
      "b'{\\n  \"user_id\": \"5e51b56d5fa34008598fc6b7\"\\n}\\n'\n",
      "Jimbo Jones School\n",
      "b'{\\n  \"user_id\": \"5e51b56d5fa34008598fc6b8\"\\n}\\n'\n",
      "Carl Carlson Bar\n",
      "b'{\\n  \"user_id\": \"5e51b56d5fa34008598fc6b9\"\\n}\\n'\n",
      "Lenny Leonard Bar\n",
      "b'{\\n  \"user_id\": \"5e51b56d5fa34008598fc6ba\"\\n}\\n'\n",
      "Ralph Wiggum School\n",
      "b'{\\n  \"user_id\": \"5e51b56d5fa34008598fc6bb\"\\n}\\n'\n",
      "Seymour Skinner School\n",
      "b'{\\n  \"user_id\": \"5e51b56d5fa34008598fc6bc\"\\n}\\n'\n",
      "Groundskeeper Willie School\n",
      "b'{\\n  \"user_id\": \"5e51b56d5fa34008598fc6bd\"\\n}\\n'\n",
      "Maggie Simpson Home\n",
      "b'{\\n  \"user_id\": \"5e51b56d5fa34008598fc6be\"\\n}\\n'\n"
     ]
    }
   ],
   "source": [
    "for index, row in ch.iterrows():\n",
    "    print(row['Characters'], row['Groups'])\n",
    "    users = requests.get(f\"http://localhost:8800/user/create/{row['Characters']}/{row['Groups']}\").content\n",
    "    print(users)"
   ]
  },
  {
   "cell_type": "code",
   "execution_count": 124,
   "metadata": {},
   "outputs": [
    {
     "name": "stdout",
     "output_type": "stream",
     "text": [
      "Lisa Simpson\n",
      "User added to the chat\n",
      "Martin Prince\n",
      "User added to the chat\n",
      "Bart Simpson\n",
      "User added to the chat\n",
      "Nelson Muntz\n",
      "User added to the chat\n",
      "Milhouse Van Houten\n",
      "User added to the chat\n",
      "Homer Simpson\n",
      "User added to the chat\n",
      "Marge Simpson\n",
      "User added to the chat\n",
      "Moe Szyslak\n",
      "User added to the chat\n"
     ]
    }
   ],
   "source": [
    "\n",
    "for character in pd.unique(df_reduced['Characters']):\n",
    "    print(character)\n",
    "    usersdata = requests.get(f\"http://localhost:8800/chat/adduser/{character}\").text\n",
    "    print(usersdata)"
   ]
  },
  {
   "cell_type": "markdown",
   "metadata": {},
   "source": [
    "# Adding messages to chat"
   ]
  },
  {
   "cell_type": "code",
   "execution_count": 125,
   "metadata": {},
   "outputs": [
    {
     "name": "stdout",
     "output_type": "stream",
     "text": [
      "b'Great. Included'\n"
     ]
    }
   ],
   "source": [
    "'''\n",
    "Characters from the same group will be on the same MongoDB document conversation\n",
    "'''\n",
    "for index, row in df_reduced.iterrows():  \n",
    "    data = requests.get(f\"http://localhost:8800/chat/{row['Groups']}/{row['Characters']}/{row['spoken_words']}\").content\n",
    "print(data)"
   ]
  },
  {
   "cell_type": "markdown",
   "metadata": {},
   "source": [
    "# Pruebas"
   ]
  },
  {
   "cell_type": "code",
   "execution_count": 30,
   "metadata": {},
   "outputs": [],
   "source": [
    "from pymongo import MongoClient\n",
    "from bson.objectid import ObjectId\n",
    "from bson.json_util import dumps"
   ]
  },
  {
   "cell_type": "code",
   "execution_count": 31,
   "metadata": {},
   "outputs": [],
   "source": [
    "client = MongoClient(\"mongodb://localhost/Conversations\")\n",
    "db = client.get_database()\n"
   ]
  },
  {
   "cell_type": "code",
   "execution_count": 137,
   "metadata": {},
   "outputs": [
    {
     "name": "stdout",
     "output_type": "stream",
     "text": [
      "Home\n",
      "<class 'list'>\n",
      "Home\n",
      "<class 'list'>\n",
      "School\n",
      "<class 'list'>\n",
      "Home\n",
      "<class 'list'>\n",
      "Home\n",
      "<class 'list'>\n",
      "Home\n",
      "<class 'list'>\n",
      "Home\n",
      "<class 'list'>\n",
      "Home\n",
      "<class 'list'>\n",
      "Home\n",
      "<class 'list'>\n",
      "School\n",
      "<class 'list'>\n",
      "Home\n",
      "<class 'list'>\n",
      "Home\n",
      "<class 'list'>\n",
      "School\n",
      "<class 'list'>\n",
      "Home\n",
      "<class 'list'>\n",
      "Home\n",
      "<class 'list'>\n",
      "School\n",
      "<class 'list'>\n",
      "Home\n",
      "<class 'list'>\n",
      "Home\n",
      "<class 'list'>\n",
      "Home\n",
      "<class 'list'>\n",
      "Home\n",
      "<class 'list'>\n",
      "Home\n",
      "<class 'list'>\n",
      "Home\n",
      "<class 'list'>\n",
      "Home\n",
      "<class 'list'>\n",
      "Home\n",
      "<class 'list'>\n",
      "Home\n",
      "<class 'list'>\n",
      "Home\n",
      "<class 'list'>\n",
      "Home\n",
      "<class 'list'>\n",
      "Home\n",
      "<class 'list'>\n",
      "Home\n",
      "<class 'list'>\n",
      "Home\n",
      "<class 'list'>\n",
      "Home\n",
      "<class 'list'>\n",
      "Home\n",
      "<class 'list'>\n",
      "Home\n",
      "<class 'list'>\n",
      "Home\n",
      "<class 'list'>\n",
      "Home\n",
      "<class 'list'>\n",
      "Home\n",
      "<class 'list'>\n",
      "Home\n",
      "<class 'list'>\n",
      "Home\n",
      "<class 'list'>\n",
      "Home\n",
      "<class 'list'>\n",
      "Home\n",
      "<class 'list'>\n",
      "Home\n",
      "<class 'list'>\n",
      "Home\n",
      "<class 'list'>\n",
      "Home\n",
      "<class 'list'>\n",
      "Home\n",
      "<class 'list'>\n",
      "Home\n",
      "<class 'list'>\n",
      "Home\n",
      "<class 'list'>\n",
      "Home\n",
      "<class 'list'>\n",
      "Home\n",
      "<class 'list'>\n",
      "Home\n",
      "<class 'list'>\n",
      "Home\n",
      "<class 'list'>\n",
      "Home\n",
      "<class 'list'>\n",
      "Home\n",
      "<class 'list'>\n",
      "Home\n",
      "<class 'list'>\n",
      "Home\n",
      "<class 'list'>\n",
      "Home\n",
      "<class 'list'>\n",
      "Home\n",
      "<class 'list'>\n",
      "Home\n",
      "<class 'list'>\n",
      "Home\n",
      "<class 'list'>\n",
      "Home\n",
      "<class 'list'>\n",
      "Home\n",
      "<class 'list'>\n",
      "Home\n",
      "<class 'list'>\n",
      "Home\n",
      "<class 'list'>\n",
      "Home\n",
      "<class 'list'>\n",
      "Home\n",
      "<class 'list'>\n",
      "Home\n",
      "<class 'list'>\n",
      "Home\n",
      "<class 'list'>\n",
      "Home\n",
      "<class 'list'>\n",
      "Home\n",
      "<class 'list'>\n",
      "Home\n",
      "<class 'list'>\n",
      "Home\n",
      "<class 'list'>\n",
      "Home\n",
      "<class 'list'>\n",
      "Home\n",
      "<class 'list'>\n",
      "Home\n",
      "<class 'list'>\n",
      "Home\n",
      "<class 'list'>\n",
      "Home\n",
      "<class 'list'>\n",
      "Home\n",
      "<class 'list'>\n",
      "Home\n",
      "<class 'list'>\n",
      "Home\n",
      "<class 'list'>\n",
      "Home\n",
      "<class 'list'>\n",
      "Home\n",
      "<class 'list'>\n",
      "Home\n",
      "<class 'list'>\n",
      "Home\n",
      "<class 'list'>\n",
      "Home\n",
      "<class 'list'>\n",
      "Home\n",
      "<class 'list'>\n",
      "Home\n",
      "<class 'list'>\n",
      "Home\n",
      "<class 'list'>\n",
      "Home\n",
      "<class 'list'>\n",
      "Home\n",
      "<class 'list'>\n",
      "Home\n",
      "<class 'list'>\n",
      "Home\n",
      "<class 'list'>\n",
      "Home\n",
      "<class 'list'>\n",
      "Home\n",
      "<class 'list'>\n",
      "Home\n",
      "<class 'list'>\n",
      "Home\n",
      "<class 'list'>\n",
      "Home\n",
      "<class 'list'>\n",
      "Home\n",
      "<class 'list'>\n",
      "Bar\n",
      "<class 'list'>\n",
      "Home\n",
      "<class 'list'>\n",
      "Home\n",
      "<class 'list'>\n",
      "Home\n",
      "<class 'list'>\n"
     ]
    }
   ],
   "source": [
    "for index, row in df_reduced.iterrows():\n",
    "    i = row['Groups']\n",
    "    print(i)\n",
    "    query = list(db['Conversations'].find({'Group':i}))[0]['Message']\n",
    "    print(type(query))"
   ]
  },
  {
   "cell_type": "code",
   "execution_count": null,
   "metadata": {},
   "outputs": [],
   "source": []
  }
 ],
 "metadata": {
  "kernelspec": {
   "display_name": "Python 3",
   "language": "python",
   "name": "python3"
  },
  "language_info": {
   "codemirror_mode": {
    "name": "ipython",
    "version": 3
   },
   "file_extension": ".py",
   "mimetype": "text/x-python",
   "name": "python",
   "nbconvert_exporter": "python",
   "pygments_lexer": "ipython3",
   "version": "3.7.5"
  }
 },
 "nbformat": 4,
 "nbformat_minor": 4
}
