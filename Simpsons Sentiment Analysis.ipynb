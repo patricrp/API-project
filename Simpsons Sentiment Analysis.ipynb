{
 "cells": [
  {
   "cell_type": "markdown",
   "metadata": {},
   "source": [
    "# Simpsons characters dialogs"
   ]
  },
  {
   "cell_type": "code",
   "execution_count": 1,
   "metadata": {},
   "outputs": [],
   "source": [
    "import pandas as pd\n",
    "from flask import Flask, request"
   ]
  },
  {
   "cell_type": "code",
   "execution_count": 2,
   "metadata": {},
   "outputs": [
    {
     "data": {
      "text/html": [
       "<div>\n",
       "<style scoped>\n",
       "    .dataframe tbody tr th:only-of-type {\n",
       "        vertical-align: middle;\n",
       "    }\n",
       "\n",
       "    .dataframe tbody tr th {\n",
       "        vertical-align: top;\n",
       "    }\n",
       "\n",
       "    .dataframe thead th {\n",
       "        text-align: right;\n",
       "    }\n",
       "</style>\n",
       "<table border=\"1\" class=\"dataframe\">\n",
       "  <thead>\n",
       "    <tr style=\"text-align: right;\">\n",
       "      <th></th>\n",
       "      <th>raw_character_text</th>\n",
       "      <th>spoken_words</th>\n",
       "    </tr>\n",
       "  </thead>\n",
       "  <tbody>\n",
       "    <tr>\n",
       "      <th>0</th>\n",
       "      <td>Miss Hoover</td>\n",
       "      <td>No, actually, it was a little of both. Sometim...</td>\n",
       "    </tr>\n",
       "    <tr>\n",
       "      <th>1</th>\n",
       "      <td>Lisa Simpson</td>\n",
       "      <td>Where's Mr. Bergstrom?</td>\n",
       "    </tr>\n",
       "    <tr>\n",
       "      <th>2</th>\n",
       "      <td>Miss Hoover</td>\n",
       "      <td>I don't know. Although I'd sure like to talk t...</td>\n",
       "    </tr>\n",
       "    <tr>\n",
       "      <th>3</th>\n",
       "      <td>Lisa Simpson</td>\n",
       "      <td>That life is worth living.</td>\n",
       "    </tr>\n",
       "    <tr>\n",
       "      <th>4</th>\n",
       "      <td>Edna Krabappel-Flanders</td>\n",
       "      <td>The polls will be open from now until the end ...</td>\n",
       "    </tr>\n",
       "  </tbody>\n",
       "</table>\n",
       "</div>"
      ],
      "text/plain": [
       "        raw_character_text                                       spoken_words\n",
       "0              Miss Hoover  No, actually, it was a little of both. Sometim...\n",
       "1             Lisa Simpson                             Where's Mr. Bergstrom?\n",
       "2              Miss Hoover  I don't know. Although I'd sure like to talk t...\n",
       "3             Lisa Simpson                         That life is worth living.\n",
       "4  Edna Krabappel-Flanders  The polls will be open from now until the end ..."
      ]
     },
     "execution_count": 2,
     "metadata": {},
     "output_type": "execute_result"
    }
   ],
   "source": [
    "df = pd.read_csv('input/simpsons_dataset.csv', engine = 'python')\n",
    "df.head()"
   ]
  },
  {
   "cell_type": "code",
   "execution_count": 3,
   "metadata": {},
   "outputs": [],
   "source": [
    "nombres = { \n",
    "    'raw_character_text':'Characters',\n",
    "    'spoken_works':'Text'\n",
    "}\n",
    "df = df.rename(columns=nombres)"
   ]
  },
  {
   "cell_type": "markdown",
   "metadata": {},
   "source": [
    "# Create characters groups"
   ]
  },
  {
   "cell_type": "code",
   "execution_count": 38,
   "metadata": {},
   "outputs": [
    {
     "data": {
      "text/html": [
       "<div>\n",
       "<style scoped>\n",
       "    .dataframe tbody tr th:only-of-type {\n",
       "        vertical-align: middle;\n",
       "    }\n",
       "\n",
       "    .dataframe tbody tr th {\n",
       "        vertical-align: top;\n",
       "    }\n",
       "\n",
       "    .dataframe thead th {\n",
       "        text-align: right;\n",
       "    }\n",
       "</style>\n",
       "<table border=\"1\" class=\"dataframe\">\n",
       "  <thead>\n",
       "    <tr style=\"text-align: right;\">\n",
       "      <th></th>\n",
       "      <th>Characters</th>\n",
       "      <th>spoken_words</th>\n",
       "      <th>Groups</th>\n",
       "    </tr>\n",
       "  </thead>\n",
       "  <tbody>\n",
       "    <tr>\n",
       "      <th>1</th>\n",
       "      <td>Lisa Simpson</td>\n",
       "      <td>Where's Mr. Bergstrom?</td>\n",
       "      <td>Home</td>\n",
       "    </tr>\n",
       "    <tr>\n",
       "      <th>3</th>\n",
       "      <td>Lisa Simpson</td>\n",
       "      <td>That life is worth living.</td>\n",
       "      <td>Home</td>\n",
       "    </tr>\n",
       "    <tr>\n",
       "      <th>5</th>\n",
       "      <td>Martin Prince</td>\n",
       "      <td>I don't think there's anything left to say.</td>\n",
       "      <td>School</td>\n",
       "    </tr>\n",
       "    <tr>\n",
       "      <th>7</th>\n",
       "      <td>Bart Simpson</td>\n",
       "      <td>Victory party under the slide!</td>\n",
       "      <td>Home</td>\n",
       "    </tr>\n",
       "    <tr>\n",
       "      <th>9</th>\n",
       "      <td>Lisa Simpson</td>\n",
       "      <td>Mr. Bergstrom! Mr. Bergstrom!</td>\n",
       "      <td>Home</td>\n",
       "    </tr>\n",
       "    <tr>\n",
       "      <th>...</th>\n",
       "      <td>...</td>\n",
       "      <td>...</td>\n",
       "      <td>...</td>\n",
       "    </tr>\n",
       "    <tr>\n",
       "      <th>158303</th>\n",
       "      <td>Lisa Simpson</td>\n",
       "      <td>Does Bart have to be there?</td>\n",
       "      <td>Home</td>\n",
       "    </tr>\n",
       "    <tr>\n",
       "      <th>158304</th>\n",
       "      <td>Marge Simpson</td>\n",
       "      <td>Yes.</td>\n",
       "      <td>Home</td>\n",
       "    </tr>\n",
       "    <tr>\n",
       "      <th>158305</th>\n",
       "      <td>Lisa Simpson</td>\n",
       "      <td>Can we do it this week?</td>\n",
       "      <td>Home</td>\n",
       "    </tr>\n",
       "    <tr>\n",
       "      <th>158307</th>\n",
       "      <td>Lisa Simpson</td>\n",
       "      <td>Mr. Bergstrom, we request the pleasure of your...</td>\n",
       "      <td>Home</td>\n",
       "    </tr>\n",
       "    <tr>\n",
       "      <th>158312</th>\n",
       "      <td>Ralph Wiggum</td>\n",
       "      <td>Does that mean you were crazy?</td>\n",
       "      <td>School</td>\n",
       "    </tr>\n",
       "  </tbody>\n",
       "</table>\n",
       "<p>77123 rows × 3 columns</p>\n",
       "</div>"
      ],
      "text/plain": [
       "           Characters                                       spoken_words  \\\n",
       "1        Lisa Simpson                             Where's Mr. Bergstrom?   \n",
       "3        Lisa Simpson                         That life is worth living.   \n",
       "5       Martin Prince        I don't think there's anything left to say.   \n",
       "7        Bart Simpson                     Victory party under the slide!   \n",
       "9        Lisa Simpson                      Mr. Bergstrom! Mr. Bergstrom!   \n",
       "...               ...                                                ...   \n",
       "158303   Lisa Simpson                        Does Bart have to be there?   \n",
       "158304  Marge Simpson                                               Yes.   \n",
       "158305   Lisa Simpson                            Can we do it this week?   \n",
       "158307   Lisa Simpson  Mr. Bergstrom, we request the pleasure of your...   \n",
       "158312   Ralph Wiggum                     Does that mean you were crazy?   \n",
       "\n",
       "        Groups  \n",
       "1         Home  \n",
       "3         Home  \n",
       "5       School  \n",
       "7         Home  \n",
       "9         Home  \n",
       "...        ...  \n",
       "158303    Home  \n",
       "158304    Home  \n",
       "158305    Home  \n",
       "158307    Home  \n",
       "158312  School  \n",
       "\n",
       "[77123 rows x 3 columns]"
      ]
     },
     "execution_count": 38,
     "metadata": {},
     "output_type": "execute_result"
    }
   ],
   "source": [
    "df = df.dropna()\n",
    "df = df[(df['Characters'].isin(('Homer Simpson', 'Marge Simpson', 'Bart Simpson', 'Lisa Simpson', 'Maggie Simpson', 'Abraham Simpson', 'Milhouse Van Houten', 'Ralph Wiggum', 'Nelson Muntz', 'Seymour Skinner', 'Edna Krabappel', 'Groundskeeper Willie', 'Jimbo Jones', 'Martin Prince', 'Moe Szyslak', 'Barney Gumble', 'Lenny Leonard', 'Carl Carlson')))]\n",
    "df"
   ]
  },
  {
   "cell_type": "code",
   "execution_count": 39,
   "metadata": {},
   "outputs": [],
   "source": [
    "df['Groups'] = df['Groups'][df['Characters'].isin(('Homer Simpson', 'Marge Simpson', 'Bart Simpson', 'Lisa Simpson', 'Maggie Simpson', 'Abraham Simpson'))] = 'Home'\n",
    "df['Groups'][df['Characters'].isin(('Milhouse Van Houten', 'Ralph Wiggum', 'Nelson Muntz', 'Seymour Skinner', 'Edna Krabappel', 'Groundskeeper Willie', 'Jimbo Jones', 'Martin Prince'))] = 'School'\n",
    "df['Groups'][df['Characters'].isin(('Moe Szyslak', 'Barney Gumble', 'Lenny Leonard', 'Carl Carlson'))] = 'Bar'"
   ]
  },
  {
   "cell_type": "code",
   "execution_count": 42,
   "metadata": {},
   "outputs": [
    {
     "data": {
      "text/plain": [
       "Characters      0\n",
       "spoken_words    0\n",
       "Groups          0\n",
       "dtype: int64"
      ]
     },
     "execution_count": 42,
     "metadata": {},
     "output_type": "execute_result"
    }
   ],
   "source": [
    "df_reduced = df.head(100)\n",
    "df_reduced = df_reduced.dropna(axis=0)\n",
    "df_reduced.isnull().sum()"
   ]
  },
  {
   "cell_type": "markdown",
   "metadata": {},
   "source": [
    "# Including Simpsons characters on MongoDB"
   ]
  },
  {
   "cell_type": "code",
   "execution_count": 43,
   "metadata": {},
   "outputs": [],
   "source": [
    "import requests"
   ]
  },
  {
   "cell_type": "code",
   "execution_count": 44,
   "metadata": {},
   "outputs": [
    {
     "name": "stdout",
     "output_type": "stream",
     "text": [
      "b'{\\n  \"user_id\": \"5e51788d36a4e6707c71aa3d\"\\n}\\n'\n"
     ]
    }
   ],
   "source": [
    "for character in pd.unique(df_reduced['Characters']):\n",
    "    data = requests.get(f\"http://localhost:8800/user/create/{character}\").content\n",
    "print(data)"
   ]
  },
  {
   "cell_type": "markdown",
   "metadata": {},
   "source": [
    "# Creating chats"
   ]
  },
  {
   "cell_type": "code",
   "execution_count": 45,
   "metadata": {},
   "outputs": [
    {
     "name": "stdout",
     "output_type": "stream",
     "text": [
      "b'{\\n  \"Group\": \"Bar\"\\n}\\n'\n"
     ]
    }
   ],
   "source": [
    "for group in pd.unique(df_reduced['Groups']):\n",
    "    data = requests.get(f\"http://localhost:8800/chat/create/{group}\").content\n",
    "print(data)"
   ]
  },
  {
   "cell_type": "markdown",
   "metadata": {},
   "source": [
    "# Adding characters to chat"
   ]
  },
  {
   "cell_type": "code",
   "execution_count": null,
   "metadata": {},
   "outputs": [],
   "source": [
    "for character in pd.unique(df_reduced['Characters']):\n",
    "    data = requests.get(f\"http://localhost:8800/chat/adduser/{character}\").content\n",
    "print(data)"
   ]
  },
  {
   "cell_type": "markdown",
   "metadata": {},
   "source": [
    "# Adding messages to chat"
   ]
  },
  {
   "cell_type": "code",
   "execution_count": 46,
   "metadata": {},
   "outputs": [
    {
     "name": "stdout",
     "output_type": "stream",
     "text": [
      "b'Great. Included'\n"
     ]
    }
   ],
   "source": [
    "'''\n",
    "Characters from the same group will be on the same MongoDB document conversation\n",
    "'''\n",
    "for index, row in df_reduced.iterrows():  \n",
    "    data = requests.get(f\"http://localhost:8800/chat/{row['Groups']}/{row['Characters']}/{row['spoken_words']}\").content\n",
    "print(data)"
   ]
  },
  {
   "cell_type": "markdown",
   "metadata": {},
   "source": [
    "# Pruebas"
   ]
  },
  {
   "cell_type": "code",
   "execution_count": 47,
   "metadata": {},
   "outputs": [],
   "source": [
    "from pymongo import MongoClient\n",
    "from bson.objectid import ObjectId\n",
    "from bson.json_util import dumps"
   ]
  },
  {
   "cell_type": "code",
   "execution_count": 48,
   "metadata": {},
   "outputs": [],
   "source": [
    "client = MongoClient(\"mongodb://localhost/Conversations\")\n",
    "db = client.get_database()\n"
   ]
  },
  {
   "cell_type": "code",
   "execution_count": null,
   "metadata": {},
   "outputs": [],
   "source": [
    "chatname = ['cole', 'casa']\n",
    "for c in chatname:\n",
    "    a = list(db['Conversations'].find({'Group':f'{c}'}, {'_id':1}))\n",
    "print(a[0]['_id'])"
   ]
  },
  {
   "cell_type": "code",
   "execution_count": null,
   "metadata": {},
   "outputs": [],
   "source": [
    "for username in pd.unique(dfschool['Characters']):\n",
    "    b = list(db['Users'].find({'username':f'{username}'}, {'_id':1}))[0]['_id']\n",
    "    print(b)"
   ]
  },
  {
   "cell_type": "code",
   "execution_count": null,
   "metadata": {},
   "outputs": [],
   "source": [
    "addUser('casa', 'lisa')"
   ]
  },
  {
   "cell_type": "code",
   "execution_count": 80,
   "metadata": {},
   "outputs": [
    {
     "name": "stdout",
     "output_type": "stream",
     "text": [
      "Lisa Simpson\n",
      "<class 'str'>\n",
      "5e51691085d1a8d1ba848e85\n",
      "5e5169be85d1a8d1ba848e90\n",
      "User added to the chat\n",
      "Martin Prince\n",
      "<class 'str'>\n",
      "5e51688985d1a8d1ba848e80\n",
      "5e5169be85d1a8d1ba848e91\n",
      "User added to the chat\n",
      "Bart Simpson\n",
      "<class 'str'>\n",
      "5e51691085d1a8d1ba848e87\n",
      "5e5169be85d1a8d1ba848e90\n",
      "User added to the chat\n",
      "Nelson Muntz\n",
      "<class 'str'>\n",
      "5e51688985d1a8d1ba848e81\n",
      "5e5169be85d1a8d1ba848e91\n",
      "User added to the chat\n",
      "Milhouse Van Houten\n",
      "<class 'str'>\n",
      "5e51688985d1a8d1ba848e82\n",
      "5e5169be85d1a8d1ba848e91\n",
      "User added to the chat\n",
      "Homer Simpson\n",
      "<class 'str'>\n",
      "5e51691085d1a8d1ba848e8e\n",
      "5e5169be85d1a8d1ba848e90\n",
      "User added to the chat\n",
      "Marge Simpson\n",
      "<class 'str'>\n",
      "5e51691085d1a8d1ba848e8f\n",
      "5e5169be85d1a8d1ba848e90\n",
      "User added to the chat\n",
      "Moe Szyslak\n",
      "<class 'str'>\n",
      "5e51788d36a4e6707c71aa3d\n",
      "5e51789236a4e6707c71aa3e\n",
      "User added to the chat\n"
     ]
    },
    {
     "name": "stderr",
     "output_type": "stream",
     "text": [
      "/usr/local/lib/python3.7/site-packages/ipykernel_launcher.py:10: DeprecationWarning: update is deprecated. Use replace_one, update_one or update_many instead.\n",
      "  # Remove the CWD from sys.path while we load stuff.\n"
     ]
    }
   ],
   "source": [
    "#Añadir a Character\n",
    "for user in pd.unique(df_reduced['Characters']):\n",
    "    print(user)\n",
    "    grupo = list(df_reduced['Groups'][df_reduced['Characters'] == user])[0]\n",
    "    print(type(grupo))\n",
    "    i = list(db['Users'].find({'username': user}, {'_id':1}))[0]['_id']\n",
    "    print(i)\n",
    "    ig = list(db['Conversations'].find({'Group':grupo}, {'_id':1}))[0]['_id']\n",
    "    print(ig)\n",
    "    query = list(db['Conversations'].update({\"_id\":ig}, {'$push': {'Characters': {'username': user, '_id':i}}}))\n",
    "    print('User added to the chat')\n",
    "    \n",
    "    '''\n",
    "    query = list(db['Conversations'].update())\n",
    "    print(i)\n",
    "    \n",
    "    \n",
    "    if db['Conversations'].count_documents({'Group':chatname}, limit = 1) != 0:\n",
    "        i = list(db['Conversations'].find({'Group':chatname}, {'_id':1}))[0]['_id']\n",
    "        query = list(db['Conversations'].update({\"_id\":i},{\"$push\":{\"Message\": {'username': username, 'message': message}}}))\n",
    "        return 'Great. Included'\n",
    "'''"
   ]
  },
  {
   "cell_type": "code",
   "execution_count": 79,
   "metadata": {},
   "outputs": [
    {
     "name": "stdout",
     "output_type": "stream",
     "text": [
      "Lisa Simpson\n",
      "Home\n",
      "5e51691085d1a8d1ba848e85\n",
      "5e5169be85d1a8d1ba848e90\n",
      "Martin Prince\n",
      "School\n",
      "5e51688985d1a8d1ba848e80\n",
      "5e5169be85d1a8d1ba848e91\n",
      "Bart Simpson\n",
      "Home\n",
      "5e51691085d1a8d1ba848e87\n",
      "5e5169be85d1a8d1ba848e90\n",
      "Nelson Muntz\n",
      "School\n",
      "5e51688985d1a8d1ba848e81\n",
      "5e5169be85d1a8d1ba848e91\n",
      "Milhouse Van Houten\n",
      "School\n",
      "5e51688985d1a8d1ba848e82\n",
      "5e5169be85d1a8d1ba848e91\n",
      "Homer Simpson\n",
      "Home\n",
      "5e51691085d1a8d1ba848e8e\n",
      "5e5169be85d1a8d1ba848e90\n",
      "Marge Simpson\n",
      "Home\n",
      "5e51691085d1a8d1ba848e8f\n",
      "5e5169be85d1a8d1ba848e90\n",
      "Moe Szyslak\n",
      "Bar\n",
      "5e51788d36a4e6707c71aa3d\n",
      "5e51789236a4e6707c71aa3e\n"
     ]
    }
   ],
   "source": [
    "for user in pd.unique(df_reduced['Characters']):\n",
    "    print(user)\n",
    "    grupo = list(df_reduced['Groups'][df_reduced['Characters'] == user])[0]\n",
    "    print(grupo)\n",
    "    i = list(db['Users'].find({'username': user}, {'_id':1}))[0]['_id']\n",
    "    print(i)\n",
    "    ig = list(db['Conversations'].find({'Group':grupo}, {'_id':1}))[0]['_id']\n",
    "    print(ig)"
   ]
  },
  {
   "cell_type": "code",
   "execution_count": null,
   "metadata": {},
   "outputs": [],
   "source": []
  }
 ],
 "metadata": {
  "kernelspec": {
   "display_name": "Python 3",
   "language": "python",
   "name": "python3"
  },
  "language_info": {
   "codemirror_mode": {
    "name": "ipython",
    "version": 3
   },
   "file_extension": ".py",
   "mimetype": "text/x-python",
   "name": "python",
   "nbconvert_exporter": "python",
   "pygments_lexer": "ipython3",
   "version": "3.7.5"
  }
 },
 "nbformat": 4,
 "nbformat_minor": 4
}
