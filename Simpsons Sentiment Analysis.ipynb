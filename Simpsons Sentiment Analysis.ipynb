{
 "cells": [
  {
   "cell_type": "markdown",
   "metadata": {},
   "source": [
    "# Simpsons characters dialogs"
   ]
  },
  {
   "cell_type": "code",
   "execution_count": 146,
   "metadata": {},
   "outputs": [],
   "source": [
    "import pandas as pd\n",
    "from flask import Flask, request"
   ]
  },
  {
   "cell_type": "code",
   "execution_count": 147,
   "metadata": {},
   "outputs": [
    {
     "data": {
      "text/html": [
       "<div>\n",
       "<style scoped>\n",
       "    .dataframe tbody tr th:only-of-type {\n",
       "        vertical-align: middle;\n",
       "    }\n",
       "\n",
       "    .dataframe tbody tr th {\n",
       "        vertical-align: top;\n",
       "    }\n",
       "\n",
       "    .dataframe thead th {\n",
       "        text-align: right;\n",
       "    }\n",
       "</style>\n",
       "<table border=\"1\" class=\"dataframe\">\n",
       "  <thead>\n",
       "    <tr style=\"text-align: right;\">\n",
       "      <th></th>\n",
       "      <th>raw_character_text</th>\n",
       "      <th>spoken_words</th>\n",
       "    </tr>\n",
       "  </thead>\n",
       "  <tbody>\n",
       "    <tr>\n",
       "      <th>0</th>\n",
       "      <td>Miss Hoover</td>\n",
       "      <td>No, actually, it was a little of both. Sometim...</td>\n",
       "    </tr>\n",
       "    <tr>\n",
       "      <th>1</th>\n",
       "      <td>Lisa Simpson</td>\n",
       "      <td>Where's Mr. Bergstrom?</td>\n",
       "    </tr>\n",
       "    <tr>\n",
       "      <th>2</th>\n",
       "      <td>Miss Hoover</td>\n",
       "      <td>I don't know. Although I'd sure like to talk t...</td>\n",
       "    </tr>\n",
       "    <tr>\n",
       "      <th>3</th>\n",
       "      <td>Lisa Simpson</td>\n",
       "      <td>That life is worth living.</td>\n",
       "    </tr>\n",
       "    <tr>\n",
       "      <th>4</th>\n",
       "      <td>Edna Krabappel-Flanders</td>\n",
       "      <td>The polls will be open from now until the end ...</td>\n",
       "    </tr>\n",
       "  </tbody>\n",
       "</table>\n",
       "</div>"
      ],
      "text/plain": [
       "        raw_character_text                                       spoken_words\n",
       "0              Miss Hoover  No, actually, it was a little of both. Sometim...\n",
       "1             Lisa Simpson                             Where's Mr. Bergstrom?\n",
       "2              Miss Hoover  I don't know. Although I'd sure like to talk t...\n",
       "3             Lisa Simpson                         That life is worth living.\n",
       "4  Edna Krabappel-Flanders  The polls will be open from now until the end ..."
      ]
     },
     "execution_count": 147,
     "metadata": {},
     "output_type": "execute_result"
    }
   ],
   "source": [
    "df = pd.read_csv('input/simpsons_dataset.csv', engine = 'python')\n",
    "df.head()"
   ]
  },
  {
   "cell_type": "code",
   "execution_count": 148,
   "metadata": {},
   "outputs": [],
   "source": [
    "nombres = { \n",
    "    'raw_character_text':'Characters',\n",
    "    'spoken_works':'Text'\n",
    "}\n",
    "df = df.rename(columns=nombres)"
   ]
  },
  {
   "cell_type": "markdown",
   "metadata": {},
   "source": [
    "# Create characters groups"
   ]
  },
  {
   "cell_type": "code",
   "execution_count": 149,
   "metadata": {},
   "outputs": [],
   "source": [
    "df['Groups'] = df['Groups'][df['Characters'].isin(('Homer Simpson', 'Marge Simpson', 'Bart Simpson', 'Lisa Simpson', 'Maggie Simpson', 'Abraham Simpson'))] = 'Home'\n",
    "df['Groups'][df['Characters'].isin(('Milhouse Van Houten', 'Ralph Wiggum', 'Nelson Muntz', 'Seymour Skinner', 'Edna Krabappel', 'Groundskeeper Willie', 'Jimbo Jones', 'Martin Prince'))] = 'School'\n",
    "df['Groups'][df['Characters'].isin(('Moe Szyslak', 'Barney Gumble', 'Lenny Leonard', 'Carl Carlson'))] = 'Bar'"
   ]
  },
  {
   "cell_type": "code",
   "execution_count": 150,
   "metadata": {},
   "outputs": [
    {
     "data": {
      "text/html": [
       "<div>\n",
       "<style scoped>\n",
       "    .dataframe tbody tr th:only-of-type {\n",
       "        vertical-align: middle;\n",
       "    }\n",
       "\n",
       "    .dataframe tbody tr th {\n",
       "        vertical-align: top;\n",
       "    }\n",
       "\n",
       "    .dataframe thead th {\n",
       "        text-align: right;\n",
       "    }\n",
       "</style>\n",
       "<table border=\"1\" class=\"dataframe\">\n",
       "  <thead>\n",
       "    <tr style=\"text-align: right;\">\n",
       "      <th></th>\n",
       "      <th>Characters</th>\n",
       "      <th>spoken_words</th>\n",
       "      <th>Groups</th>\n",
       "    </tr>\n",
       "  </thead>\n",
       "  <tbody>\n",
       "    <tr>\n",
       "      <th>0</th>\n",
       "      <td>Miss Hoover</td>\n",
       "      <td>No, actually, it was a little of both. Sometim...</td>\n",
       "      <td>Home</td>\n",
       "    </tr>\n",
       "    <tr>\n",
       "      <th>1</th>\n",
       "      <td>Lisa Simpson</td>\n",
       "      <td>Where's Mr. Bergstrom?</td>\n",
       "      <td>Home</td>\n",
       "    </tr>\n",
       "    <tr>\n",
       "      <th>2</th>\n",
       "      <td>Miss Hoover</td>\n",
       "      <td>I don't know. Although I'd sure like to talk t...</td>\n",
       "      <td>Home</td>\n",
       "    </tr>\n",
       "    <tr>\n",
       "      <th>3</th>\n",
       "      <td>Lisa Simpson</td>\n",
       "      <td>That life is worth living.</td>\n",
       "      <td>Home</td>\n",
       "    </tr>\n",
       "    <tr>\n",
       "      <th>4</th>\n",
       "      <td>Edna Krabappel-Flanders</td>\n",
       "      <td>The polls will be open from now until the end ...</td>\n",
       "      <td>Home</td>\n",
       "    </tr>\n",
       "    <tr>\n",
       "      <th>...</th>\n",
       "      <td>...</td>\n",
       "      <td>...</td>\n",
       "      <td>...</td>\n",
       "    </tr>\n",
       "    <tr>\n",
       "      <th>158309</th>\n",
       "      <td>Miss Hoover</td>\n",
       "      <td>I'm back.</td>\n",
       "      <td>Home</td>\n",
       "    </tr>\n",
       "    <tr>\n",
       "      <th>158310</th>\n",
       "      <td>Miss Hoover</td>\n",
       "      <td>You see, class, my Lyme disease turned out to ...</td>\n",
       "      <td>Home</td>\n",
       "    </tr>\n",
       "    <tr>\n",
       "      <th>158311</th>\n",
       "      <td>Miss Hoover</td>\n",
       "      <td>Psy-cho-so-ma-tic.</td>\n",
       "      <td>Home</td>\n",
       "    </tr>\n",
       "    <tr>\n",
       "      <th>158312</th>\n",
       "      <td>Ralph Wiggum</td>\n",
       "      <td>Does that mean you were crazy?</td>\n",
       "      <td>School</td>\n",
       "    </tr>\n",
       "    <tr>\n",
       "      <th>158313</th>\n",
       "      <td>JANEY</td>\n",
       "      <td>No, that means she was faking it.</td>\n",
       "      <td>Home</td>\n",
       "    </tr>\n",
       "  </tbody>\n",
       "</table>\n",
       "<p>131853 rows × 3 columns</p>\n",
       "</div>"
      ],
      "text/plain": [
       "                     Characters  \\\n",
       "0                   Miss Hoover   \n",
       "1                  Lisa Simpson   \n",
       "2                   Miss Hoover   \n",
       "3                  Lisa Simpson   \n",
       "4       Edna Krabappel-Flanders   \n",
       "...                         ...   \n",
       "158309              Miss Hoover   \n",
       "158310              Miss Hoover   \n",
       "158311              Miss Hoover   \n",
       "158312             Ralph Wiggum   \n",
       "158313                    JANEY   \n",
       "\n",
       "                                             spoken_words  Groups  \n",
       "0       No, actually, it was a little of both. Sometim...    Home  \n",
       "1                                  Where's Mr. Bergstrom?    Home  \n",
       "2       I don't know. Although I'd sure like to talk t...    Home  \n",
       "3                              That life is worth living.    Home  \n",
       "4       The polls will be open from now until the end ...    Home  \n",
       "...                                                   ...     ...  \n",
       "158309                                          I'm back.    Home  \n",
       "158310  You see, class, my Lyme disease turned out to ...    Home  \n",
       "158311                                 Psy-cho-so-ma-tic.    Home  \n",
       "158312                     Does that mean you were crazy?  School  \n",
       "158313                  No, that means she was faking it.    Home  \n",
       "\n",
       "[131853 rows x 3 columns]"
      ]
     },
     "execution_count": 150,
     "metadata": {},
     "output_type": "execute_result"
    }
   ],
   "source": [
    "df.dropna()"
   ]
  },
  {
   "cell_type": "code",
   "execution_count": 156,
   "metadata": {},
   "outputs": [],
   "source": [
    "df_reduced = df.head(100)\n"
   ]
  },
  {
   "cell_type": "markdown",
   "metadata": {},
   "source": [
    "# Including Simpsons characters on MongoDB"
   ]
  },
  {
   "cell_type": "code",
   "execution_count": 157,
   "metadata": {},
   "outputs": [],
   "source": [
    "import requests"
   ]
  },
  {
   "cell_type": "code",
   "execution_count": 159,
   "metadata": {},
   "outputs": [
    {
     "name": "stdout",
     "output_type": "stream",
     "text": [
      "b'{\\n  \"user_id\": \"5e51691085d1a8d1ba848e8f\"\\n}\\n'\n"
     ]
    }
   ],
   "source": [
    "for character in pd.unique(df_reduced['Characters']):\n",
    "    data = requests.get(f\"http://localhost:8800/user/create/{character}\").content\n",
    "print(data)"
   ]
  },
  {
   "cell_type": "markdown",
   "metadata": {},
   "source": [
    "# Creating chats"
   ]
  },
  {
   "cell_type": "code",
   "execution_count": 161,
   "metadata": {},
   "outputs": [
    {
     "name": "stdout",
     "output_type": "stream",
     "text": [
      "b'{\\n  \"Group\": \"School\"\\n}\\n'\n"
     ]
    }
   ],
   "source": [
    "for group in pd.unique(df_reduced['Groups']):\n",
    "    data = requests.get(f\"http://localhost:8800/chat/create/{group}\").content\n",
    "print(data)"
   ]
  },
  {
   "cell_type": "markdown",
   "metadata": {},
   "source": [
    "# Adding messages to chat"
   ]
  },
  {
   "cell_type": "code",
   "execution_count": 163,
   "metadata": {},
   "outputs": [
    {
     "name": "stdout",
     "output_type": "stream",
     "text": [
      "b'Great. Included'\n"
     ]
    }
   ],
   "source": [
    "'''\n",
    "Characters from the same group will be on the same MongoDB document conversation\n",
    "'''\n",
    "for index, row in df_reduced.iterrows():  \n",
    "    data = requests.get(f\"http://localhost:8800/chat/{row['Groups']}/{row['Characters']}/{row['spoken_words']}\").content\n",
    "print(data)"
   ]
  },
  {
   "cell_type": "markdown",
   "metadata": {},
   "source": [
    "# Pruebas"
   ]
  },
  {
   "cell_type": "code",
   "execution_count": 100,
   "metadata": {},
   "outputs": [],
   "source": [
    "from pymongo import MongoClient\n",
    "from bson.objectid import ObjectId\n",
    "from bson.json_util import dumps"
   ]
  },
  {
   "cell_type": "code",
   "execution_count": 101,
   "metadata": {},
   "outputs": [],
   "source": [
    "client = MongoClient(\"mongodb://localhost/Conversations\")\n",
    "db = client.get_database()\n"
   ]
  },
  {
   "cell_type": "code",
   "execution_count": 114,
   "metadata": {},
   "outputs": [
    {
     "name": "stdout",
     "output_type": "stream",
     "text": [
      "5e515d634741ae452f17539f\n"
     ]
    }
   ],
   "source": [
    "chatname = ['cole', 'casa']\n",
    "for c in chatname:\n",
    "    a = list(db['Conversations'].find({'Group':f'{c}'}, {'_id':1}))\n",
    "print(a[0]['_id'])"
   ]
  },
  {
   "cell_type": "code",
   "execution_count": 115,
   "metadata": {},
   "outputs": [
    {
     "name": "stdout",
     "output_type": "stream",
     "text": [
      "5e513e3b6b93ea22a65c8435\n",
      "5e513e3c6b93ea22a65c8436\n",
      "5e513e3c6b93ea22a65c8437\n",
      "5e513e3c6b93ea22a65c8438\n"
     ]
    }
   ],
   "source": [
    "for username in pd.unique(dfschool['Characters']):\n",
    "    b = list(db['Users'].find({'username':f'{username}'}, {'_id':1}))[0]['_id']\n",
    "    print(b)"
   ]
  },
  {
   "cell_type": "code",
   "execution_count": 124,
   "metadata": {},
   "outputs": [],
   "source": [
    "#Error\n",
    "def addUser(chatname, username):\n",
    "    a = list(db['Conversations'].find({'Group':f'{chatname}'}, {'_id':1}))[0]['_id']\n",
    "    print(a)\n",
    "    print(type(a))\n",
    "    b = list(db['Users'].find({'username':f'{username}'}, {'_id':1}))[0]['_id']\n",
    "    print(b)\n",
    "    print(type(b))\n",
    "    conversation = db['Conversation'].update({'_id': a}, {'$push':{'Characters': username}})\n",
    "    print(conversation)\n",
    "    return 'ok'"
   ]
  },
  {
   "cell_type": "code",
   "execution_count": 125,
   "metadata": {},
   "outputs": [
    {
     "name": "stdout",
     "output_type": "stream",
     "text": [
      "5e515d634741ae452f17539f\n",
      "<class 'bson.objectid.ObjectId'>\n",
      "5e512a46ee04e3c57485f23d\n",
      "<class 'bson.objectid.ObjectId'>\n",
      "{'n': 0, 'nModified': 0, 'ok': 1.0, 'updatedExisting': False}\n"
     ]
    },
    {
     "name": "stderr",
     "output_type": "stream",
     "text": [
      "/usr/local/lib/python3.7/site-packages/ipykernel_launcher.py:9: DeprecationWarning: update is deprecated. Use replace_one, update_one or update_many instead.\n",
      "  if __name__ == '__main__':\n"
     ]
    },
    {
     "data": {
      "text/plain": [
       "'ok'"
      ]
     },
     "execution_count": 125,
     "metadata": {},
     "output_type": "execute_result"
    }
   ],
   "source": [
    "addUser('casa', 'lisa')"
   ]
  },
  {
   "cell_type": "code",
   "execution_count": 77,
   "metadata": {},
   "outputs": [
    {
     "data": {
      "text/plain": [
       "(20, 3)"
      ]
     },
     "execution_count": 77,
     "metadata": {},
     "output_type": "execute_result"
    }
   ],
   "source": [
    "dfschool = dfschool.head(20)\n",
    "dfschool.shape"
   ]
  },
  {
   "cell_type": "markdown",
   "metadata": {},
   "source": [
    "# Adding chats"
   ]
  },
  {
   "cell_type": "code",
   "execution_count": 90,
   "metadata": {},
   "outputs": [
    {
     "name": "stdout",
     "output_type": "stream",
     "text": [
      "{\n",
      "  \"error\": \"'InsertOneResult' object is not iterable\"\n",
      "}\n",
      "\n",
      "{\n",
      "  \"error\": \"'InsertOneResult' object is not iterable\"\n",
      "}\n",
      "\n",
      "{\n",
      "  \"error\": \"'InsertOneResult' object is not iterable\"\n",
      "}\n",
      "\n",
      "<!DOCTYPE HTML PUBLIC \"-//W3C//DTD HTML 3.2 Final//EN\">\n",
      "<title>404 Not Found</title>\n",
      "<h1>Not Found</h1>\n",
      "<p>The requested URL was not found on the server. If you entered the URL manually please check your spelling and try again.</p>\n",
      "\n",
      "{\n",
      "  \"error\": \"'InsertOneResult' object is not iterable\"\n",
      "}\n",
      "\n",
      "{\n",
      "  \"error\": \"'InsertOneResult' object is not iterable\"\n",
      "}\n",
      "\n",
      "{\n",
      "  \"error\": \"'InsertOneResult' object is not iterable\"\n",
      "}\n",
      "\n",
      "{\n",
      "  \"error\": \"'InsertOneResult' object is not iterable\"\n",
      "}\n",
      "\n",
      "{\n",
      "  \"error\": \"'InsertOneResult' object is not iterable\"\n",
      "}\n",
      "\n",
      "{\n",
      "  \"error\": \"'InsertOneResult' object is not iterable\"\n",
      "}\n",
      "\n",
      "<!DOCTYPE HTML PUBLIC \"-//W3C//DTD HTML 3.2 Final//EN\">\n",
      "<title>404 Not Found</title>\n",
      "<h1>Not Found</h1>\n",
      "<p>The requested URL was not found on the server. If you entered the URL manually please check your spelling and try again.</p>\n",
      "\n",
      "{\n",
      "  \"error\": \"'InsertOneResult' object is not iterable\"\n",
      "}\n",
      "\n",
      "{\n",
      "  \"error\": \"'InsertOneResult' object is not iterable\"\n",
      "}\n",
      "\n",
      "<!DOCTYPE HTML PUBLIC \"-//W3C//DTD HTML 3.2 Final//EN\">\n",
      "<title>404 Not Found</title>\n",
      "<h1>Not Found</h1>\n",
      "<p>The requested URL was not found on the server. If you entered the URL manually please check your spelling and try again.</p>\n",
      "\n",
      "{\n",
      "  \"error\": \"'InsertOneResult' object is not iterable\"\n",
      "}\n",
      "\n",
      "{\n",
      "  \"error\": \"'InsertOneResult' object is not iterable\"\n",
      "}\n",
      "\n",
      "<!DOCTYPE HTML PUBLIC \"-//W3C//DTD HTML 3.2 Final//EN\">\n",
      "<title>404 Not Found</title>\n",
      "<h1>Not Found</h1>\n",
      "<p>The requested URL was not found on the server. If you entered the URL manually please check your spelling and try again.</p>\n",
      "\n",
      "{\n",
      "  \"error\": \"'InsertOneResult' object is not iterable\"\n",
      "}\n",
      "\n",
      "<!DOCTYPE HTML PUBLIC \"-//W3C//DTD HTML 3.2 Final//EN\">\n",
      "<title>404 Not Found</title>\n",
      "<h1>Not Found</h1>\n",
      "<p>The requested URL was not found on the server. If you entered the URL manually please check your spelling and try again.</p>\n",
      "\n",
      "{\n",
      "  \"error\": \"'InsertOneResult' object is not iterable\"\n",
      "}\n",
      "\n"
     ]
    }
   ],
   "source": [
    "\n",
    "for index, row in dfschool.iterrows():\n",
    "    data = requests.get(f\"http://localhost:8800/chat/create/{row['Groups']}/{row['Characters']}/{row['spoken_words']}\").text\n",
    "    print(data)"
   ]
  },
  {
   "cell_type": "code",
   "execution_count": 127,
   "metadata": {},
   "outputs": [
    {
     "data": {
      "text/html": [
       "<div>\n",
       "<style scoped>\n",
       "    .dataframe tbody tr th:only-of-type {\n",
       "        vertical-align: middle;\n",
       "    }\n",
       "\n",
       "    .dataframe tbody tr th {\n",
       "        vertical-align: top;\n",
       "    }\n",
       "\n",
       "    .dataframe thead th {\n",
       "        text-align: right;\n",
       "    }\n",
       "</style>\n",
       "<table border=\"1\" class=\"dataframe\">\n",
       "  <thead>\n",
       "    <tr style=\"text-align: right;\">\n",
       "      <th></th>\n",
       "      <th>Characters</th>\n",
       "      <th>spoken_words</th>\n",
       "      <th>Groups</th>\n",
       "    </tr>\n",
       "  </thead>\n",
       "  <tbody>\n",
       "    <tr>\n",
       "      <th>5</th>\n",
       "      <td>Martin Prince</td>\n",
       "      <td>I don't think there's anything left to say.</td>\n",
       "      <td>School</td>\n",
       "    </tr>\n",
       "    <tr>\n",
       "      <th>18</th>\n",
       "      <td>Nelson Muntz</td>\n",
       "      <td>I didn't vote. Voting's for geeks.</td>\n",
       "      <td>School</td>\n",
       "    </tr>\n",
       "    <tr>\n",
       "      <th>22</th>\n",
       "      <td>Milhouse Van Houten</td>\n",
       "      <td>Uh oh.</td>\n",
       "      <td>School</td>\n",
       "    </tr>\n",
       "    <tr>\n",
       "      <th>25</th>\n",
       "      <td>Milhouse Van Houten</td>\n",
       "      <td>What about you, Bart? Didn't you vote?</td>\n",
       "      <td>School</td>\n",
       "    </tr>\n",
       "    <tr>\n",
       "      <th>379</th>\n",
       "      <td>Milhouse Van Houten</td>\n",
       "      <td>Bart's joint. Uh, twoish. Be there or be square.</td>\n",
       "      <td>School</td>\n",
       "    </tr>\n",
       "  </tbody>\n",
       "</table>\n",
       "</div>"
      ],
      "text/plain": [
       "              Characters                                      spoken_words  \\\n",
       "5          Martin Prince       I don't think there's anything left to say.   \n",
       "18          Nelson Muntz                I didn't vote. Voting's for geeks.   \n",
       "22   Milhouse Van Houten                                            Uh oh.   \n",
       "25   Milhouse Van Houten            What about you, Bart? Didn't you vote?   \n",
       "379  Milhouse Van Houten  Bart's joint. Uh, twoish. Be there or be square.   \n",
       "\n",
       "     Groups  \n",
       "5    School  \n",
       "18   School  \n",
       "22   School  \n",
       "25   School  \n",
       "379  School  "
      ]
     },
     "execution_count": 127,
     "metadata": {},
     "output_type": "execute_result"
    }
   ],
   "source": [
    "dfschool.head()"
   ]
  },
  {
   "cell_type": "code",
   "execution_count": 145,
   "metadata": {},
   "outputs": [
    {
     "name": "stdout",
     "output_type": "stream",
     "text": [
      "5e5162d485d1a8d1ba848e7f\n",
      "Incluido\n",
      "5e5162d485d1a8d1ba848e7f\n",
      "Incluido\n",
      "5e5162d485d1a8d1ba848e7f\n",
      "Incluido\n",
      "5e5162d485d1a8d1ba848e7f\n",
      "Incluido\n",
      "5e5162d485d1a8d1ba848e7f\n",
      "Incluido\n",
      "5e5162d485d1a8d1ba848e7f\n",
      "Incluido\n",
      "5e5162d485d1a8d1ba848e7f\n",
      "Incluido\n",
      "5e5162d485d1a8d1ba848e7f\n",
      "Incluido\n",
      "5e5162d485d1a8d1ba848e7f\n",
      "Incluido\n",
      "5e5162d485d1a8d1ba848e7f\n",
      "Incluido\n",
      "5e5162d485d1a8d1ba848e7f\n",
      "Incluido\n",
      "5e5162d485d1a8d1ba848e7f\n",
      "Incluido\n",
      "5e5162d485d1a8d1ba848e7f\n",
      "Incluido\n",
      "5e5162d485d1a8d1ba848e7f\n",
      "Incluido\n",
      "5e5162d485d1a8d1ba848e7f\n",
      "Incluido\n",
      "5e5162d485d1a8d1ba848e7f\n",
      "Incluido\n",
      "5e5162d485d1a8d1ba848e7f\n",
      "Incluido\n",
      "5e5162d485d1a8d1ba848e7f\n",
      "Incluido\n",
      "5e5162d485d1a8d1ba848e7f\n",
      "Incluido\n",
      "5e5162d485d1a8d1ba848e7f\n",
      "Incluido\n"
     ]
    },
    {
     "name": "stderr",
     "output_type": "stream",
     "text": [
      "/usr/local/lib/python3.7/site-packages/ipykernel_launcher.py:7: DeprecationWarning: update is deprecated. Use replace_one, update_one or update_many instead.\n",
      "  import sys\n"
     ]
    }
   ],
   "source": [
    "for index, row in dfschool.iterrows():\n",
    "    if db['Conversations'].count_documents({'Group':row['Groups']}, limit = 1) != 0:\n",
    "        i = list(db['Conversations'].find({'Group':row['Groups']}, {'_id':1}))[0]['_id']\n",
    "        query = list(db['Conversations'].update({\"_id\":i},{\"$push\":{\"Message\": {'username': row['Characters'], 'message': row['spoken_words']}}}))\n",
    "        print('Incluido')\n",
    "    else:\n",
    "        print('Stop')"
   ]
  },
  {
   "cell_type": "code",
   "execution_count": null,
   "metadata": {},
   "outputs": [],
   "source": []
  }
 ],
 "metadata": {
  "kernelspec": {
   "display_name": "Python 3",
   "language": "python",
   "name": "python3"
  },
  "language_info": {
   "codemirror_mode": {
    "name": "ipython",
    "version": 3
   },
   "file_extension": ".py",
   "mimetype": "text/x-python",
   "name": "python",
   "nbconvert_exporter": "python",
   "pygments_lexer": "ipython3",
   "version": "3.7.5"
  }
 },
 "nbformat": 4,
 "nbformat_minor": 4
}
