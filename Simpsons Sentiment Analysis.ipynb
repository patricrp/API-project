{
 "cells": [
  {
   "cell_type": "markdown",
   "metadata": {},
   "source": [
    "# Simpsons characters dialogs"
   ]
  },
  {
   "cell_type": "code",
   "execution_count": 12,
   "metadata": {},
   "outputs": [],
   "source": [
    "import pandas as pd\n",
    "from flask import Flask, request"
   ]
  },
  {
   "cell_type": "code",
   "execution_count": 13,
   "metadata": {},
   "outputs": [
    {
     "data": {
      "text/html": [
       "<div>\n",
       "<style scoped>\n",
       "    .dataframe tbody tr th:only-of-type {\n",
       "        vertical-align: middle;\n",
       "    }\n",
       "\n",
       "    .dataframe tbody tr th {\n",
       "        vertical-align: top;\n",
       "    }\n",
       "\n",
       "    .dataframe thead th {\n",
       "        text-align: right;\n",
       "    }\n",
       "</style>\n",
       "<table border=\"1\" class=\"dataframe\">\n",
       "  <thead>\n",
       "    <tr style=\"text-align: right;\">\n",
       "      <th></th>\n",
       "      <th>raw_character_text</th>\n",
       "      <th>spoken_words</th>\n",
       "    </tr>\n",
       "  </thead>\n",
       "  <tbody>\n",
       "    <tr>\n",
       "      <th>0</th>\n",
       "      <td>Miss Hoover</td>\n",
       "      <td>No, actually, it was a little of both. Sometim...</td>\n",
       "    </tr>\n",
       "    <tr>\n",
       "      <th>1</th>\n",
       "      <td>Lisa Simpson</td>\n",
       "      <td>Where's Mr. Bergstrom?</td>\n",
       "    </tr>\n",
       "    <tr>\n",
       "      <th>2</th>\n",
       "      <td>Miss Hoover</td>\n",
       "      <td>I don't know. Although I'd sure like to talk t...</td>\n",
       "    </tr>\n",
       "    <tr>\n",
       "      <th>3</th>\n",
       "      <td>Lisa Simpson</td>\n",
       "      <td>That life is worth living.</td>\n",
       "    </tr>\n",
       "    <tr>\n",
       "      <th>4</th>\n",
       "      <td>Edna Krabappel-Flanders</td>\n",
       "      <td>The polls will be open from now until the end ...</td>\n",
       "    </tr>\n",
       "  </tbody>\n",
       "</table>\n",
       "</div>"
      ],
      "text/plain": [
       "        raw_character_text                                       spoken_words\n",
       "0              Miss Hoover  No, actually, it was a little of both. Sometim...\n",
       "1             Lisa Simpson                             Where's Mr. Bergstrom?\n",
       "2              Miss Hoover  I don't know. Although I'd sure like to talk t...\n",
       "3             Lisa Simpson                         That life is worth living.\n",
       "4  Edna Krabappel-Flanders  The polls will be open from now until the end ..."
      ]
     },
     "execution_count": 13,
     "metadata": {},
     "output_type": "execute_result"
    }
   ],
   "source": [
    "df = pd.read_csv('input/simpsons_dataset.csv', engine = 'python')\n",
    "df.head()"
   ]
  },
  {
   "cell_type": "code",
   "execution_count": 14,
   "metadata": {},
   "outputs": [],
   "source": [
    "nombres = { \n",
    "    'raw_character_text':'Characters',\n",
    "    'spoken_works':'Text'\n",
    "}\n",
    "df = df.rename(columns=nombres)"
   ]
  },
  {
   "cell_type": "markdown",
   "metadata": {},
   "source": [
    "# Create characters groups"
   ]
  },
  {
   "cell_type": "code",
   "execution_count": 15,
   "metadata": {},
   "outputs": [
    {
     "data": {
      "text/html": [
       "<div>\n",
       "<style scoped>\n",
       "    .dataframe tbody tr th:only-of-type {\n",
       "        vertical-align: middle;\n",
       "    }\n",
       "\n",
       "    .dataframe tbody tr th {\n",
       "        vertical-align: top;\n",
       "    }\n",
       "\n",
       "    .dataframe thead th {\n",
       "        text-align: right;\n",
       "    }\n",
       "</style>\n",
       "<table border=\"1\" class=\"dataframe\">\n",
       "  <thead>\n",
       "    <tr style=\"text-align: right;\">\n",
       "      <th></th>\n",
       "      <th>Characters</th>\n",
       "      <th>spoken_words</th>\n",
       "    </tr>\n",
       "  </thead>\n",
       "  <tbody>\n",
       "    <tr>\n",
       "      <th>1</th>\n",
       "      <td>Lisa Simpson</td>\n",
       "      <td>Where's Mr. Bergstrom?</td>\n",
       "    </tr>\n",
       "    <tr>\n",
       "      <th>3</th>\n",
       "      <td>Lisa Simpson</td>\n",
       "      <td>That life is worth living.</td>\n",
       "    </tr>\n",
       "    <tr>\n",
       "      <th>5</th>\n",
       "      <td>Martin Prince</td>\n",
       "      <td>I don't think there's anything left to say.</td>\n",
       "    </tr>\n",
       "    <tr>\n",
       "      <th>7</th>\n",
       "      <td>Bart Simpson</td>\n",
       "      <td>Victory party under the slide!</td>\n",
       "    </tr>\n",
       "    <tr>\n",
       "      <th>9</th>\n",
       "      <td>Lisa Simpson</td>\n",
       "      <td>Mr. Bergstrom! Mr. Bergstrom!</td>\n",
       "    </tr>\n",
       "  </tbody>\n",
       "</table>\n",
       "</div>"
      ],
      "text/plain": [
       "      Characters                                 spoken_words\n",
       "1   Lisa Simpson                       Where's Mr. Bergstrom?\n",
       "3   Lisa Simpson                   That life is worth living.\n",
       "5  Martin Prince  I don't think there's anything left to say.\n",
       "7   Bart Simpson               Victory party under the slide!\n",
       "9   Lisa Simpson                Mr. Bergstrom! Mr. Bergstrom!"
      ]
     },
     "execution_count": 15,
     "metadata": {},
     "output_type": "execute_result"
    }
   ],
   "source": [
    "df = df = df.dropna()\n",
    "df = df[(df['Characters'].isin(('Homer Simpson', 'Marge Simpson', 'Bart Simpson', 'Lisa Simpson', 'Maggie Simpson', 'Abraham Simpson', 'Milhouse Van Houten', 'Ralph Wiggum', 'Nelson Muntz', 'Seymour Skinner', 'Edna Krabappel', 'Groundskeeper Willie', 'Jimbo Jones', 'Martin Prince', 'Moe Szyslak', 'Barney Gumble', 'Lenny Leonard', 'Carl Carlson')))]\n",
    "df.head()"
   ]
  },
  {
   "cell_type": "code",
   "execution_count": 16,
   "metadata": {},
   "outputs": [],
   "source": [
    "df['Groups'] = df['Groups'][df['Characters'].isin(('Homer Simpson', 'Marge Simpson', 'Bart Simpson', 'Lisa Simpson', 'Maggie Simpson', 'Abraham Simpson'))] = 'Home'\n",
    "df['Groups'][df['Characters'].isin(('Milhouse Van Houten', 'Ralph Wiggum', 'Nelson Muntz', 'Seymour Skinner', 'Edna Krabappel', 'Groundskeeper Willie', 'Jimbo Jones', 'Martin Prince'))] = 'School'\n",
    "df['Groups'][df['Characters'].isin(('Moe Szyslak', 'Barney Gumble', 'Lenny Leonard', 'Carl Carlson'))] = 'Bar'"
   ]
  },
  {
   "cell_type": "code",
   "execution_count": 17,
   "metadata": {},
   "outputs": [
    {
     "data": {
      "text/html": [
       "<div>\n",
       "<style scoped>\n",
       "    .dataframe tbody tr th:only-of-type {\n",
       "        vertical-align: middle;\n",
       "    }\n",
       "\n",
       "    .dataframe tbody tr th {\n",
       "        vertical-align: top;\n",
       "    }\n",
       "\n",
       "    .dataframe thead th {\n",
       "        text-align: right;\n",
       "    }\n",
       "</style>\n",
       "<table border=\"1\" class=\"dataframe\">\n",
       "  <thead>\n",
       "    <tr style=\"text-align: right;\">\n",
       "      <th></th>\n",
       "      <th>Characters</th>\n",
       "      <th>spoken_words</th>\n",
       "      <th>Groups</th>\n",
       "    </tr>\n",
       "  </thead>\n",
       "  <tbody>\n",
       "    <tr>\n",
       "      <th>1</th>\n",
       "      <td>Lisa Simpson</td>\n",
       "      <td>Where's Mr. Bergstrom?</td>\n",
       "      <td>Home</td>\n",
       "    </tr>\n",
       "    <tr>\n",
       "      <th>3</th>\n",
       "      <td>Lisa Simpson</td>\n",
       "      <td>That life is worth living.</td>\n",
       "      <td>Home</td>\n",
       "    </tr>\n",
       "    <tr>\n",
       "      <th>5</th>\n",
       "      <td>Martin Prince</td>\n",
       "      <td>I don't think there's anything left to say.</td>\n",
       "      <td>School</td>\n",
       "    </tr>\n",
       "    <tr>\n",
       "      <th>7</th>\n",
       "      <td>Bart Simpson</td>\n",
       "      <td>Victory party under the slide!</td>\n",
       "      <td>Home</td>\n",
       "    </tr>\n",
       "    <tr>\n",
       "      <th>9</th>\n",
       "      <td>Lisa Simpson</td>\n",
       "      <td>Mr. Bergstrom! Mr. Bergstrom!</td>\n",
       "      <td>Home</td>\n",
       "    </tr>\n",
       "  </tbody>\n",
       "</table>\n",
       "</div>"
      ],
      "text/plain": [
       "      Characters                                 spoken_words  Groups\n",
       "1   Lisa Simpson                       Where's Mr. Bergstrom?    Home\n",
       "3   Lisa Simpson                   That life is worth living.    Home\n",
       "5  Martin Prince  I don't think there's anything left to say.  School\n",
       "7   Bart Simpson               Victory party under the slide!    Home\n",
       "9   Lisa Simpson                Mr. Bergstrom! Mr. Bergstrom!    Home"
      ]
     },
     "execution_count": 17,
     "metadata": {},
     "output_type": "execute_result"
    }
   ],
   "source": [
    "df_reduced = df.head(100)\n",
    "df_reduced.head()"
   ]
  },
  {
   "cell_type": "markdown",
   "metadata": {},
   "source": [
    "# Including Simpsons characters on MongoDB"
   ]
  },
  {
   "cell_type": "code",
   "execution_count": 18,
   "metadata": {},
   "outputs": [],
   "source": [
    "import requests"
   ]
  },
  {
   "cell_type": "code",
   "execution_count": null,
   "metadata": {},
   "outputs": [],
   "source": [
    "ch = df[['Characters', 'Groups']].drop_duplicates()\n",
    "ch"
   ]
  },
  {
   "cell_type": "code",
   "execution_count": null,
   "metadata": {},
   "outputs": [],
   "source": [
    "for character in pd.unique(df_reduced['Characters']):\n",
    "    data = requests.get(f\"http://localhost:8800/user/create/{character}\").content\n",
    "print(data)"
   ]
  },
  {
   "cell_type": "markdown",
   "metadata": {},
   "source": [
    "# Creating chats"
   ]
  },
  {
   "cell_type": "code",
   "execution_count": null,
   "metadata": {},
   "outputs": [],
   "source": [
    "for group in pd.unique(df_reduced['Groups']):\n",
    "    data = requests.get(f\"http://localhost:8800/chat/create/{group}\").content\n",
    "print(data)"
   ]
  },
  {
   "cell_type": "markdown",
   "metadata": {},
   "source": [
    "# Adding characters to chat"
   ]
  },
  {
   "cell_type": "code",
   "execution_count": null,
   "metadata": {},
   "outputs": [],
   "source": [
    "for index, row in ch.iterrows():\n",
    "    print(row['Characters'], row['Groups'])\n",
    "    users = requests.get(f\"http://localhost:8800/user/create/{row['Characters']}/{row['Groups']}\").content\n",
    "    print(users)"
   ]
  },
  {
   "cell_type": "code",
   "execution_count": null,
   "metadata": {},
   "outputs": [],
   "source": [
    "\n",
    "for character in pd.unique(df_reduced['Characters']):\n",
    "    print(character)\n",
    "    usersdata = requests.get(f\"http://localhost:8800/chat/adduser/{character}\").text\n",
    "    print(usersdata)"
   ]
  },
  {
   "cell_type": "markdown",
   "metadata": {},
   "source": [
    "# Adding messages to chat"
   ]
  },
  {
   "cell_type": "code",
   "execution_count": null,
   "metadata": {},
   "outputs": [],
   "source": [
    "'''\n",
    "Characters from the same group will be on the same MongoDB document conversation\n",
    "'''\n",
    "for index, row in df_reduced.iterrows():  \n",
    "    data = requests.get(f\"http://localhost:8800/chat/{row['Groups']}/{row['Characters']}/{row['spoken_words']}\").content\n",
    "print(data)"
   ]
  },
  {
   "cell_type": "markdown",
   "metadata": {},
   "source": [
    "# Getting messages from chat"
   ]
  },
  {
   "cell_type": "code",
   "execution_count": null,
   "metadata": {},
   "outputs": [],
   "source": [
    "#If you wanna have username + message:\n",
    "groups = db['Conversations'].distinct('Group')\n",
    "\n",
    "for group in groups:\n",
    "    conversations = requests.get(f\"http://localhost:8800/chat/{group}/list\").text\n",
    "\n",
    "    print(conversations)\n",
    "\n"
   ]
  },
  {
   "cell_type": "code",
   "execution_count": null,
   "metadata": {},
   "outputs": [],
   "source": [
    "#If you wanna have a list with all messages:\n",
    "groups = db['Conversations'].distinct('Group')\n",
    "\n",
    "for group in groups:\n",
    "    messages = requests.get(f\"http://localhost:8800/chat/{group}/userlist\").text\n",
    "\n",
    "    print(messages)"
   ]
  },
  {
   "cell_type": "markdown",
   "metadata": {},
   "source": [
    "# Sentiment analysis"
   ]
  },
  {
   "cell_type": "code",
   "execution_count": null,
   "metadata": {},
   "outputs": [],
   "source": []
  },
  {
   "cell_type": "markdown",
   "metadata": {},
   "source": [
    "# Pruebas"
   ]
  },
  {
   "cell_type": "code",
   "execution_count": 40,
   "metadata": {},
   "outputs": [],
   "source": [
    "from pymongo import MongoClient\n",
    "from bson.objectid import ObjectId\n",
    "from bson.json_util import dumps\n",
    "import ast"
   ]
  },
  {
   "cell_type": "code",
   "execution_count": 21,
   "metadata": {},
   "outputs": [],
   "source": [
    "client = MongoClient(\"mongodb://localhost/Conversations\")\n",
    "db = client.get_database()\n"
   ]
  },
  {
   "cell_type": "code",
   "execution_count": 22,
   "metadata": {},
   "outputs": [],
   "source": [
    "import nltk"
   ]
  },
  {
   "cell_type": "code",
   "execution_count": 23,
   "metadata": {},
   "outputs": [
    {
     "name": "stderr",
     "output_type": "stream",
     "text": [
      "[nltk_data] Downloading package vader_lexicon to\n",
      "[nltk_data]     /Users/TryAgain/nltk_data...\n",
      "[nltk_data]   Package vader_lexicon is already up-to-date!\n"
     ]
    },
    {
     "data": {
      "text/plain": [
       "True"
      ]
     },
     "execution_count": 23,
     "metadata": {},
     "output_type": "execute_result"
    }
   ],
   "source": [
    "import nltk\n",
    "nltk.download('vader_lexicon')"
   ]
  },
  {
   "cell_type": "code",
   "execution_count": 24,
   "metadata": {},
   "outputs": [],
   "source": [
    "from nltk.sentiment.vader import SentimentIntensityAnalyzer"
   ]
  },
  {
   "cell_type": "code",
   "execution_count": 25,
   "metadata": {},
   "outputs": [],
   "source": [
    "sia = SentimentIntensityAnalyzer()"
   ]
  },
  {
   "cell_type": "code",
   "execution_count": 47,
   "metadata": {},
   "outputs": [
    {
     "name": "stdout",
     "output_type": "stream",
     "text": [
      "<class 'str'>\n",
      "<class 'list'>\n"
     ]
    }
   ],
   "source": [
    "messages = requests.get(f\"http://localhost:8800/chat/Home/userlist\").text\n",
    "\n",
    "a = ast.literal_eval(messages)\n",
    "print(type(messages))\n",
    "print(type(a))"
   ]
  },
  {
   "cell_type": "code",
   "execution_count": 65,
   "metadata": {},
   "outputs": [
    {
     "name": "stdout",
     "output_type": "stream",
     "text": [
      "[\"Where's Mr. Bergstrom\", 'That life is worth living.', 'Victory party under the slide!', 'Mr. Bergstrom! Mr. Bergstrom!', 'Do you know where I could find him', 'The train, how like him... traditional, yet environmentally sound.', 'I see he touched you, too.', 'Hey, thanks for your vote, man.', 'Well, you got that right. Thanks for your vote, girls.', \"Well, don't sweat it. Just so long as a couple of people did... right, Milhouse\", 'Lewis', 'Somebody must have voted.', 'Uh oh.', 'I demand a recount.', 'No.', 'Mr. Bergstrom! Hey, Mr. Bergstrom!', 'Hey, Lisa, indeed.', 'Oh, I mean, were you just going to leave, just like that', \"You can't go! You're the best teacher I'll ever have.\", 'Oh, please.', 'But I need you too.', \"I, I understand. Mr. Bergstrom, I'm going to miss you.\", 'Thank you, Mr. Bergstrom.', 'So, I guess this is it', 'Never thrown a party', \"Bart didn't get one vote\", 'Nothing.', 'Lisa, tell your father.', 'Mr. Bergstrom left today.', 'Oh.', \"He's gone. Forever.\", 'And', \"I didn't think you'd understand.\", \"Hey, just because I don't care doesn't mean I don't understand.\", \"I'm glad I'm not crying because I would hate for you to think that what I'm about to say is based on emotion. But you, sir, are a baboon!\", 'Me', 'Yes, you! Baboon, baboon, baboon, baboon!', \"I don't think you realize what you're saying.\", 'Baboon!', \"Whoa, somebody was bound to say it one day. I just can't believe it was her.\", 'Did you hear that, Marge', \"Homer, you are not allowed to have hurt feelings right now. There's a little girl upstairs who needs you. Her confidence in her father is shaken, and no little girl can be happy unless she has faith in her Daddy.\", 'Go Away.', \"Lisa, don't hold anything back. You can tell me. Are you crying because you called Daddy a baboon\", 'No!', 'Nuts.', \"This isn't going well at all.\", 'Look, if you just want me to forgive you --', 'No, no, no. I just wish I knew what to say.', \"Although, maybe this will help. Now you lost someone special and it hurts. I'm lucky because I never lost anyone special to me. Everyone special to me is under this roof.\", 'That was our wedding.', 'Oh.', \"Children, it's time for you to go to bed.\", \"It's true. Now, you'll have lots of special people in your life, Lisa. There's probably some place where they all get together, and the food is real good, and guys like me are serving drinks. Oh well, maybe I can't explain all this, but I can fix your doll house for you. At least, I'm good at monkey work. You know... monkey. You know what I mean\", 'Yeah.', 'I can hold these nails in place with my tail.', \"You're so silly.\", 'Gimme a banana.', \"I don't have any banana.\", \"Come on, you're holding out on me.\", \"I'm sorry I called you a baboon, Dad.\", 'Think nothing of it.', \"Hey, what's the matter, son\", 'Ah, Dad, if just me, Milhouse and Lewis had voted...', 'Hey son, would you have gotten any money for being class president', 'No.', 'Would you have to do extra work', 'Yeah.', 'And is this Martin guy going to get to do anything neat, like throw out the first ball at the world series, huh', 'Well, no.', 'So, let the baby have his bottle, huh', 'Hey! Thanks, monkey-man.', 'Holy-moly... talk about parenting!', 'Uh oh.', 'Sleep well, Maggie. Ah, three for three.', 'Homie, did you straighten everything out...', \"Up... up... up... up... up... up. Don't say anything, Marge. Let's just go to bed. I'm on the biggest roll of my life.\", 'Mmm... hors doovers.', 'Homer! You promised!', \"I promised I wouldn't eat\", \"Homer, please. We've never thrown a party. Now we're gonna pay back all the friends who've invited us to their homes.\", 'But Mom, I want to hear the witty banter of sophisticated adults.', \"Yeah, you can't have any fun in bed.\", \"Oh son, when you're older, you'll know better.\", 'Hmmm. Oh, baby! Mmmm. Yeah.', \"Oh! They're here! How does everything look\", 'How do I look', 'Do we have enough glasses', 'Do we have enough gag ice cubs', 'Homer! Homer! Put a record on!', 'What are all our friends names again', 'Children! Go!', 'Why not', \"Hey, Flanders, next time why don't you put a little alcohol in it\", 'Really']\n"
     ]
    }
   ],
   "source": [
    "print(a)"
   ]
  },
  {
   "cell_type": "code",
   "execution_count": 48,
   "metadata": {},
   "outputs": [
    {
     "name": "stdout",
     "output_type": "stream",
     "text": [
      "{'neg': 0.0, 'neu': 1.0, 'pos': 0.0, 'compound': 0.0}\n",
      "{'neg': 0.0, 'neu': 0.678, 'pos': 0.322, 'compound': 0.2263}\n",
      "{'neg': 0.0, 'neu': 0.572, 'pos': 0.428, 'compound': 0.4574}\n",
      "{'neg': 0.0, 'neu': 1.0, 'pos': 0.0, 'compound': 0.0}\n",
      "{'neg': 0.0, 'neu': 1.0, 'pos': 0.0, 'compound': 0.0}\n",
      "{'neg': 0.0, 'neu': 0.762, 'pos': 0.238, 'compound': 0.3612}\n",
      "{'neg': 0.0, 'neu': 1.0, 'pos': 0.0, 'compound': 0.0}\n",
      "{'neg': 0.0, 'neu': 0.633, 'pos': 0.367, 'compound': 0.4404}\n",
      "{'neg': 0.0, 'neu': 0.615, 'pos': 0.385, 'compound': 0.6124}\n",
      "{'neg': 0.0, 'neu': 0.861, 'pos': 0.139, 'compound': 0.2732}\n",
      "{'neg': 0.0, 'neu': 1.0, 'pos': 0.0, 'compound': 0.0}\n",
      "{'neg': 0.0, 'neu': 1.0, 'pos': 0.0, 'compound': 0.0}\n",
      "{'neg': 0.0, 'neu': 1.0, 'pos': 0.0, 'compound': 0.0}\n",
      "{'neg': 0.6, 'neu': 0.4, 'pos': 0.0, 'compound': -0.128}\n",
      "{'neg': 1.0, 'neu': 0.0, 'pos': 0.0, 'compound': -0.296}\n",
      "{'neg': 0.0, 'neu': 1.0, 'pos': 0.0, 'compound': 0.0}\n",
      "{'neg': 0.0, 'neu': 1.0, 'pos': 0.0, 'compound': 0.0}\n",
      "{'neg': 0.094, 'neu': 0.709, 'pos': 0.197, 'compound': 0.3182}\n",
      "{'neg': 0.0, 'neu': 0.667, 'pos': 0.333, 'compound': 0.6696}\n",
      "{'neg': 0.0, 'neu': 0.303, 'pos': 0.697, 'compound': 0.3182}\n",
      "{'neg': 0.0, 'neu': 1.0, 'pos': 0.0, 'compound': 0.0}\n",
      "{'neg': 0.167, 'neu': 0.833, 'pos': 0.0, 'compound': -0.1531}\n",
      "{'neg': 0.0, 'neu': 0.545, 'pos': 0.455, 'compound': 0.3612}\n",
      "{'neg': 0.0, 'neu': 1.0, 'pos': 0.0, 'compound': 0.0}\n",
      "{'neg': 0.53, 'neu': 0.47, 'pos': 0.0, 'compound': -0.3089}\n",
      "{'neg': 0.0, 'neu': 1.0, 'pos': 0.0, 'compound': 0.0}\n",
      "{'neg': 0.0, 'neu': 1.0, 'pos': 0.0, 'compound': 0.0}\n",
      "{'neg': 0.0, 'neu': 1.0, 'pos': 0.0, 'compound': 0.0}\n",
      "{'neg': 0.0, 'neu': 1.0, 'pos': 0.0, 'compound': 0.0}\n",
      "{'neg': 0.0, 'neu': 1.0, 'pos': 0.0, 'compound': 0.0}\n",
      "{'neg': 0.0, 'neu': 1.0, 'pos': 0.0, 'compound': 0.0}\n",
      "{'neg': 0.0, 'neu': 1.0, 'pos': 0.0, 'compound': 0.0}\n",
      "{'neg': 0.0, 'neu': 1.0, 'pos': 0.0, 'compound': 0.0}\n",
      "{'neg': 0.247, 'neu': 0.753, 'pos': 0.0, 'compound': -0.3875}\n",
      "{'neg': 0.11, 'neu': 0.715, 'pos': 0.174, 'compound': 0.2837}\n",
      "{'neg': 0.0, 'neu': 1.0, 'pos': 0.0, 'compound': 0.0}\n",
      "{'neg': 0.0, 'neu': 0.604, 'pos': 0.396, 'compound': 0.508}\n",
      "{'neg': 0.0, 'neu': 1.0, 'pos': 0.0, 'compound': 0.0}\n",
      "{'neg': 0.0, 'neu': 1.0, 'pos': 0.0, 'compound': 0.0}\n",
      "{'neg': 0.0, 'neu': 1.0, 'pos': 0.0, 'compound': 0.0}\n",
      "{'neg': 0.0, 'neu': 1.0, 'pos': 0.0, 'compound': 0.0}\n",
      "{'neg': 0.139, 'neu': 0.664, 'pos': 0.197, 'compound': 0.5994}\n",
      "{'neg': 0.0, 'neu': 1.0, 'pos': 0.0, 'compound': 0.0}\n",
      "{'neg': 0.162, 'neu': 0.838, 'pos': 0.0, 'compound': -0.4767}\n",
      "{'neg': 1.0, 'neu': 0.0, 'pos': 0.0, 'compound': -0.3595}\n",
      "{'neg': 1.0, 'neu': 0.0, 'pos': 0.0, 'compound': -0.3182}\n",
      "{'neg': 0.266, 'neu': 0.734, 'pos': 0.0, 'compound': -0.2057}\n",
      "{'neg': 0.0, 'neu': 0.702, 'pos': 0.298, 'compound': 0.34}\n",
      "{'neg': 0.462, 'neu': 0.35, 'pos': 0.189, 'compound': -0.4404}\n",
      "{'neg': 0.178, 'neu': 0.508, 'pos': 0.314, 'compound': 0.7096}\n",
      "{'neg': 0.0, 'neu': 1.0, 'pos': 0.0, 'compound': 0.0}\n",
      "{'neg': 0.0, 'neu': 1.0, 'pos': 0.0, 'compound': 0.0}\n",
      "{'neg': 0.0, 'neu': 1.0, 'pos': 0.0, 'compound': 0.0}\n",
      "{'neg': 0.0, 'neu': 0.819, 'pos': 0.181, 'compound': 0.8705}\n",
      "{'neg': 0.0, 'neu': 0.0, 'pos': 1.0, 'compound': 0.296}\n",
      "{'neg': 0.0, 'neu': 1.0, 'pos': 0.0, 'compound': 0.0}\n",
      "{'neg': 0.0, 'neu': 0.589, 'pos': 0.411, 'compound': 0.101}\n",
      "{'neg': 0.0, 'neu': 1.0, 'pos': 0.0, 'compound': 0.0}\n",
      "{'neg': 0.0, 'neu': 1.0, 'pos': 0.0, 'compound': 0.0}\n",
      "{'neg': 0.0, 'neu': 1.0, 'pos': 0.0, 'compound': 0.0}\n",
      "{'neg': 0.206, 'neu': 0.794, 'pos': 0.0, 'compound': -0.0772}\n",
      "{'neg': 0.0, 'neu': 1.0, 'pos': 0.0, 'compound': 0.0}\n",
      "{'neg': 0.0, 'neu': 0.784, 'pos': 0.216, 'compound': 0.0258}\n",
      "{'neg': 0.0, 'neu': 1.0, 'pos': 0.0, 'compound': 0.0}\n",
      "{'neg': 0.0, 'neu': 1.0, 'pos': 0.0, 'compound': 0.0}\n",
      "{'neg': 1.0, 'neu': 0.0, 'pos': 0.0, 'compound': -0.296}\n",
      "{'neg': 0.0, 'neu': 1.0, 'pos': 0.0, 'compound': 0.0}\n",
      "{'neg': 0.0, 'neu': 0.0, 'pos': 1.0, 'compound': 0.296}\n",
      "{'neg': 0.0, 'neu': 0.792, 'pos': 0.208, 'compound': 0.6705}\n",
      "{'neg': 0.512, 'neu': 0.0, 'pos': 0.488, 'compound': -0.0258}\n",
      "{'neg': 0.0, 'neu': 1.0, 'pos': 0.0, 'compound': 0.0}\n",
      "{'neg': 0.0, 'neu': 0.385, 'pos': 0.615, 'compound': 0.4926}\n",
      "{'neg': 0.0, 'neu': 1.0, 'pos': 0.0, 'compound': 0.0}\n",
      "{'neg': 0.0, 'neu': 1.0, 'pos': 0.0, 'compound': 0.0}\n",
      "{'neg': 0.0, 'neu': 0.741, 'pos': 0.259, 'compound': 0.2732}\n",
      "{'neg': 0.0, 'neu': 1.0, 'pos': 0.0, 'compound': 0.0}\n",
      "{'neg': 0.0, 'neu': 1.0, 'pos': 0.0, 'compound': 0.0}\n",
      "{'neg': 0.0, 'neu': 1.0, 'pos': 0.0, 'compound': 0.0}\n",
      "{'neg': 0.0, 'neu': 0.393, 'pos': 0.607, 'compound': 0.4738}\n",
      "{'neg': 0.0, 'neu': 0.444, 'pos': 0.556, 'compound': 0.3612}\n",
      "{'neg': 0.146, 'neu': 0.639, 'pos': 0.216, 'compound': 0.4102}\n",
      "{'neg': 0.0, 'neu': 0.647, 'pos': 0.353, 'compound': 0.5994}\n",
      "{'neg': 0.248, 'neu': 0.55, 'pos': 0.202, 'compound': -0.1285}\n",
      "{'neg': 0.0, 'neu': 0.707, 'pos': 0.293, 'compound': 0.4404}\n",
      "{'neg': 0.0, 'neu': 0.616, 'pos': 0.384, 'compound': 0.3595}\n",
      "{'neg': 0.0, 'neu': 1.0, 'pos': 0.0, 'compound': 0.0}\n",
      "{'neg': 0.0, 'neu': 1.0, 'pos': 0.0, 'compound': 0.0}\n",
      "{'neg': 0.0, 'neu': 1.0, 'pos': 0.0, 'compound': 0.0}\n",
      "{'neg': 0.286, 'neu': 0.714, 'pos': 0.0, 'compound': -0.34}\n",
      "{'neg': 0.0, 'neu': 1.0, 'pos': 0.0, 'compound': 0.0}\n",
      "{'neg': 0.0, 'neu': 0.659, 'pos': 0.341, 'compound': 0.4767}\n",
      "{'neg': 0.0, 'neu': 1.0, 'pos': 0.0, 'compound': 0.0}\n",
      "{'neg': 0.0, 'neu': 1.0, 'pos': 0.0, 'compound': 0.0}\n",
      "{'neg': 0.0, 'neu': 1.0, 'pos': 0.0, 'compound': 0.0}\n",
      "{'neg': 0.0, 'neu': 1.0, 'pos': 0.0, 'compound': 0.0}\n"
     ]
    }
   ],
   "source": [
    "#Para cada frase\n",
    "for phrase in a:\n",
    "    b = sia.polarity_scores(phrase)\n",
    "    print(b)"
   ]
  },
  {
   "cell_type": "code",
   "execution_count": 68,
   "metadata": {},
   "outputs": [
    {
     "data": {
      "text/plain": [
       "'[\"Where\\'s Mr. Bergstrom\", \"That life is worth living.\", \"Victory party under the slide!\", \"Mr. Bergstrom! Mr. Bergstrom!\", \"Do you know where I could find him\", \"The train, how like him... traditional, yet environmentally sound.\", \"I see he touched you, too.\", \"Hey, thanks for your vote, man.\", \"Well, you got that right. Thanks for your vote, girls.\", \"Well, don\\'t sweat it. Just so long as a couple of people did... right, Milhouse\", \"Lewis\", \"Somebody must have voted.\", \"Uh oh.\", \"I demand a recount.\", \"No.\", \"Mr. Bergstrom! Hey, Mr. Bergstrom!\", \"Hey, Lisa, indeed.\", \"Oh, I mean, were you just going to leave, just like that\", \"You can\\'t go! You\\'re the best teacher I\\'ll ever have.\", \"Oh, please.\", \"But I need you too.\", \"I, I understand. Mr. Bergstrom, I\\'m going to miss you.\", \"Thank you, Mr. Bergstrom.\", \"So, I guess this is it\", \"Never thrown a party\", \"Bart didn\\'t get one vote\", \"Nothing.\", \"Lisa, tell your father.\", \"Mr. Bergstrom left today.\", \"Oh.\", \"He\\'s gone. Forever.\", \"And\", \"I didn\\'t think you\\'d understand.\", \"Hey, just because I don\\'t care doesn\\'t mean I don\\'t understand.\", \"I\\'m glad I\\'m not crying because I would hate for you to think that what I\\'m about to say is based on emotion. But you, sir, are a baboon!\", \"Me\", \"Yes, you! Baboon, baboon, baboon, baboon!\", \"I don\\'t think you realize what you\\'re saying.\", \"Baboon!\", \"Whoa, somebody was bound to say it one day. I just can\\'t believe it was her.\", \"Did you hear that, Marge\", \"Homer, you are not allowed to have hurt feelings right now. There\\'s a little girl upstairs who needs you. Her confidence in her father is shaken, and no little girl can be happy unless she has faith in her Daddy.\", \"Go Away.\", \"Lisa, don\\'t hold anything back. You can tell me. Are you crying because you called Daddy a baboon\", \"No!\", \"Nuts.\", \"This isn\\'t going well at all.\", \"Look, if you just want me to forgive you --\", \"No, no, no. I just wish I knew what to say.\", \"Although, maybe this will help. Now you lost someone special and it hurts. I\\'m lucky because I never lost anyone special to me. Everyone special to me is under this roof.\", \"That was our wedding.\", \"Oh.\", \"Children, it\\'s time for you to go to bed.\", \"It\\'s true. Now, you\\'ll have lots of special people in your life, Lisa. There\\'s probably some place where they all get together, and the food is real good, and guys like me are serving drinks. Oh well, maybe I can\\'t explain all this, but I can fix your doll house for you. At least, I\\'m good at monkey work. You know... monkey. You know what I mean\", \"Yeah.\", \"I can hold these nails in place with my tail.\", \"You\\'re so silly.\", \"Gimme a banana.\", \"I don\\'t have any banana.\", \"Come on, you\\'re holding out on me.\", \"I\\'m sorry I called you a baboon, Dad.\", \"Think nothing of it.\", \"Hey, what\\'s the matter, son\", \"Ah, Dad, if just me, Milhouse and Lewis had voted...\", \"Hey son, would you have gotten any money for being class president\", \"No.\", \"Would you have to do extra work\", \"Yeah.\", \"And is this Martin guy going to get to do anything neat, like throw out the first ball at the world series, huh\", \"Well, no.\", \"So, let the baby have his bottle, huh\", \"Hey! Thanks, monkey-man.\", \"Holy-moly... talk about parenting!\", \"Uh oh.\", \"Sleep well, Maggie. Ah, three for three.\", \"Homie, did you straighten everything out...\", \"Up... up... up... up... up... up. Don\\'t say anything, Marge. Let\\'s just go to bed. I\\'m on the biggest roll of my life.\", \"Mmm... hors doovers.\", \"Homer! You promised!\", \"I promised I wouldn\\'t eat\", \"Homer, please. We\\'ve never thrown a party. Now we\\'re gonna pay back all the friends who\\'ve invited us to their homes.\", \"But Mom, I want to hear the witty banter of sophisticated adults.\", \"Yeah, you can\\'t have any fun in bed.\", \"Oh son, when you\\'re older, you\\'ll know better.\", \"Hmmm. Oh, baby! Mmmm. Yeah.\", \"Oh! They\\'re here! How does everything look\", \"How do I look\", \"Do we have enough glasses\", \"Do we have enough gag ice cubs\", \"Homer! Homer! Put a record on!\", \"What are all our friends names again\", \"Children! Go!\", \"Why not\", \"Hey, Flanders, next time why don\\'t you put a little alcohol in it\", \"Really\"]'"
      ]
     },
     "execution_count": 68,
     "metadata": {},
     "output_type": "execute_result"
    }
   ],
   "source": [
    "#list to string\n",
    "texto = ''.join([str(phrase) for phrase in messages])\n",
    "texto"
   ]
  },
  {
   "cell_type": "code",
   "execution_count": 59,
   "metadata": {},
   "outputs": [
    {
     "data": {
      "text/plain": [
       "{'neg': 0.052, 'neu': 0.836, 'pos': 0.112, 'compound': 0.9927}"
      ]
     },
     "execution_count": 59,
     "metadata": {},
     "output_type": "execute_result"
    }
   ],
   "source": [
    "#En conjunto\n",
    "\n",
    "sia.polarity_scores(texto)"
   ]
  },
  {
   "cell_type": "code",
   "execution_count": 71,
   "metadata": {},
   "outputs": [
    {
     "data": {
      "text/plain": [
       "'[\"Where\\'s Mr. Bergstrom\", \"That life is worth living.\", \"Victory party under the slide!\", \"Mr. Bergstrom! Mr. Bergstrom!\", \"Do you know where I could find him\", \"The train, how like him... traditional, yet environmentally sound.\", \"I see he touched you, too.\", \"Hey, thanks for your vote, man.\", \"Well, you got that right. Thanks for your vote, girls.\", \"Well, don\\'t sweat it. Just so long as a couple of people did... right, Milhouse\", \"Lewis\", \"Somebody must have voted.\", \"Uh oh.\", \"I demand a recount.\", \"No.\", \"Mr. Bergstrom! Hey, Mr. Bergstrom!\", \"Hey, Lisa, indeed.\", \"Oh, I mean, were you just going to leave, just like that\", \"You can\\'t go! You\\'re the best teacher I\\'ll ever have.\", \"Oh, please.\", \"But I need you too.\", \"I, I understand. Mr. Bergstrom, I\\'m going to miss you.\", \"Thank you, Mr. Bergstrom.\", \"So, I guess this is it\", \"Never thrown a party\", \"Bart didn\\'t get one vote\", \"Nothing.\", \"Lisa, tell your father.\", \"Mr. Bergstrom left today.\", \"Oh.\", \"He\\'s gone. Forever.\", \"And\", \"I didn\\'t think you\\'d understand.\", \"Hey, just because I don\\'t care doesn\\'t mean I don\\'t understand.\", \"I\\'m glad I\\'m not crying because I would hate for you to think that what I\\'m about to say is based on emotion. But you, sir, are a baboon!\", \"Me\", \"Yes, you! Baboon, baboon, baboon, baboon!\", \"I don\\'t think you realize what you\\'re saying.\", \"Baboon!\", \"Whoa, somebody was bound to say it one day. I just can\\'t believe it was her.\", \"Did you hear that, Marge\", \"Homer, you are not allowed to have hurt feelings right now. There\\'s a little girl upstairs who needs you. Her confidence in her father is shaken, and no little girl can be happy unless she has faith in her Daddy.\", \"Go Away.\", \"Lisa, don\\'t hold anything back. You can tell me. Are you crying because you called Daddy a baboon\", \"No!\", \"Nuts.\", \"This isn\\'t going well at all.\", \"Look, if you just want me to forgive you --\", \"No, no, no. I just wish I knew what to say.\", \"Although, maybe this will help. Now you lost someone special and it hurts. I\\'m lucky because I never lost anyone special to me. Everyone special to me is under this roof.\", \"That was our wedding.\", \"Oh.\", \"Children, it\\'s time for you to go to bed.\", \"It\\'s true. Now, you\\'ll have lots of special people in your life, Lisa. There\\'s probably some place where they all get together, and the food is real good, and guys like me are serving drinks. Oh well, maybe I can\\'t explain all this, but I can fix your doll house for you. At least, I\\'m good at monkey work. You know... monkey. You know what I mean\", \"Yeah.\", \"I can hold these nails in place with my tail.\", \"You\\'re so silly.\", \"Gimme a banana.\", \"I don\\'t have any banana.\", \"Come on, you\\'re holding out on me.\", \"I\\'m sorry I called you a baboon, Dad.\", \"Think nothing of it.\", \"Hey, what\\'s the matter, son\", \"Ah, Dad, if just me, Milhouse and Lewis had voted...\", \"Hey son, would you have gotten any money for being class president\", \"No.\", \"Would you have to do extra work\", \"Yeah.\", \"And is this Martin guy going to get to do anything neat, like throw out the first ball at the world series, huh\", \"Well, no.\", \"So, let the baby have his bottle, huh\", \"Hey! Thanks, monkey-man.\", \"Holy-moly... talk about parenting!\", \"Uh oh.\", \"Sleep well, Maggie. Ah, three for three.\", \"Homie, did you straighten everything out...\", \"Up... up... up... up... up... up. Don\\'t say anything, Marge. Let\\'s just go to bed. I\\'m on the biggest roll of my life.\", \"Mmm... hors doovers.\", \"Homer! You promised!\", \"I promised I wouldn\\'t eat\", \"Homer, please. We\\'ve never thrown a party. Now we\\'re gonna pay back all the friends who\\'ve invited us to their homes.\", \"But Mom, I want to hear the witty banter of sophisticated adults.\", \"Yeah, you can\\'t have any fun in bed.\", \"Oh son, when you\\'re older, you\\'ll know better.\", \"Hmmm. Oh, baby! Mmmm. Yeah.\", \"Oh! They\\'re here! How does everything look\", \"How do I look\", \"Do we have enough glasses\", \"Do we have enough gag ice cubs\", \"Homer! Homer! Put a record on!\", \"What are all our friends names again\", \"Children! Go!\", \"Why not\", \"Hey, Flanders, next time why don\\'t you put a little alcohol in it\", \"Really\"]'"
      ]
     },
     "execution_count": 71,
     "metadata": {},
     "output_type": "execute_result"
    }
   ],
   "source": [
    "messages"
   ]
  },
  {
   "cell_type": "code",
   "execution_count": 72,
   "metadata": {},
   "outputs": [
    {
     "name": "stdout",
     "output_type": "stream",
     "text": [
      "[\"Where's Mr. Bergstrom\", 'That life is worth living.', 'Victory party under the slide!', 'Mr. Bergstrom! Mr. Bergstrom!', 'Do you know where I could find him', 'The train, how like him... traditional, yet environmentally sound.', 'I see he touched you, too.', 'Hey, thanks for your vote, man.', 'Well, you got that right. Thanks for your vote, girls.', \"Well, don't sweat it. Just so long as a couple of people did... right, Milhouse\", 'Lewis', 'Somebody must have voted.', 'Uh oh.', 'I demand a recount.', 'No.', 'Mr. Bergstrom! Hey, Mr. Bergstrom!', 'Hey, Lisa, indeed.', 'Oh, I mean, were you just going to leave, just like that', \"You can't go! You're the best teacher I'll ever have.\", 'Oh, please.', 'But I need you too.', \"I, I understand. Mr. Bergstrom, I'm going to miss you.\", 'Thank you, Mr. Bergstrom.', 'So, I guess this is it', 'Never thrown a party', \"Bart didn't get one vote\", 'Nothing.', 'Lisa, tell your father.', 'Mr. Bergstrom left today.', 'Oh.', \"He's gone. Forever.\", 'And', \"I didn't think you'd understand.\", \"Hey, just because I don't care doesn't mean I don't understand.\", \"I'm glad I'm not crying because I would hate for you to think that what I'm about to say is based on emotion. But you, sir, are a baboon!\", 'Me', 'Yes, you! Baboon, baboon, baboon, baboon!', \"I don't think you realize what you're saying.\", 'Baboon!', \"Whoa, somebody was bound to say it one day. I just can't believe it was her.\", 'Did you hear that, Marge', \"Homer, you are not allowed to have hurt feelings right now. There's a little girl upstairs who needs you. Her confidence in her father is shaken, and no little girl can be happy unless she has faith in her Daddy.\", 'Go Away.', \"Lisa, don't hold anything back. You can tell me. Are you crying because you called Daddy a baboon\", 'No!', 'Nuts.', \"This isn't going well at all.\", 'Look, if you just want me to forgive you --', 'No, no, no. I just wish I knew what to say.', \"Although, maybe this will help. Now you lost someone special and it hurts. I'm lucky because I never lost anyone special to me. Everyone special to me is under this roof.\", 'That was our wedding.', 'Oh.', \"Children, it's time for you to go to bed.\", \"It's true. Now, you'll have lots of special people in your life, Lisa. There's probably some place where they all get together, and the food is real good, and guys like me are serving drinks. Oh well, maybe I can't explain all this, but I can fix your doll house for you. At least, I'm good at monkey work. You know... monkey. You know what I mean\", 'Yeah.', 'I can hold these nails in place with my tail.', \"You're so silly.\", 'Gimme a banana.', \"I don't have any banana.\", \"Come on, you're holding out on me.\", \"I'm sorry I called you a baboon, Dad.\", 'Think nothing of it.', \"Hey, what's the matter, son\", 'Ah, Dad, if just me, Milhouse and Lewis had voted...', 'Hey son, would you have gotten any money for being class president', 'No.', 'Would you have to do extra work', 'Yeah.', 'And is this Martin guy going to get to do anything neat, like throw out the first ball at the world series, huh', 'Well, no.', 'So, let the baby have his bottle, huh', 'Hey! Thanks, monkey-man.', 'Holy-moly... talk about parenting!', 'Uh oh.', 'Sleep well, Maggie. Ah, three for three.', 'Homie, did you straighten everything out...', \"Up... up... up... up... up... up. Don't say anything, Marge. Let's just go to bed. I'm on the biggest roll of my life.\", 'Mmm... hors doovers.', 'Homer! You promised!', \"I promised I wouldn't eat\", \"Homer, please. We've never thrown a party. Now we're gonna pay back all the friends who've invited us to their homes.\", 'But Mom, I want to hear the witty banter of sophisticated adults.', \"Yeah, you can't have any fun in bed.\", \"Oh son, when you're older, you'll know better.\", 'Hmmm. Oh, baby! Mmmm. Yeah.', \"Oh! They're here! How does everything look\", 'How do I look', 'Do we have enough glasses', 'Do we have enough gag ice cubs', 'Homer! Homer! Put a record on!', 'What are all our friends names again', 'Children! Go!', 'Why not', \"Hey, Flanders, next time why don't you put a little alcohol in it\", 'Really']\n"
     ]
    }
   ],
   "source": [
    "'''\n",
    "Estructura:\n",
    "\n",
    "sia.polarity_scores(variable)\n",
    "La variable necesita ser string\n",
    "\n",
    "Cuando es un string de una lista de frases, primero convertir a lista:\n",
    "a = ast.literal_eval(messages)\n",
    "\n",
    "Después \n",
    "\n",
    "'''\n",
    "print(a)"
   ]
  },
  {
   "cell_type": "code",
   "execution_count": 74,
   "metadata": {},
   "outputs": [
    {
     "data": {
      "text/plain": [
       "{'neg': 0.052, 'neu': 0.836, 'pos': 0.112, 'compound': 0.9927}"
      ]
     },
     "execution_count": 74,
     "metadata": {},
     "output_type": "execute_result"
    }
   ],
   "source": [
    "sia.polarity_scores(messages)"
   ]
  },
  {
   "cell_type": "code",
   "execution_count": null,
   "metadata": {},
   "outputs": [],
   "source": []
  }
 ],
 "metadata": {
  "kernelspec": {
   "display_name": "Python 3",
   "language": "python",
   "name": "python3"
  },
  "language_info": {
   "codemirror_mode": {
    "name": "ipython",
    "version": 3
   },
   "file_extension": ".py",
   "mimetype": "text/x-python",
   "name": "python",
   "nbconvert_exporter": "python",
   "pygments_lexer": "ipython3",
   "version": "3.7.5"
  }
 },
 "nbformat": 4,
 "nbformat_minor": 4
}
