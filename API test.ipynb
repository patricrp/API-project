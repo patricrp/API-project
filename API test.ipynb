{
 "cells": [
  {
   "cell_type": "code",
   "execution_count": 1,
   "metadata": {},
   "outputs": [
    {
     "name": "stderr",
     "output_type": "stream",
     "text": [
      "[nltk_data] Downloading package vader_lexicon to\n",
      "[nltk_data]     /Users/TryAgain/nltk_data...\n",
      "[nltk_data]   Package vader_lexicon is already up-to-date!\n"
     ]
    }
   ],
   "source": [
    "import pandas as pd\n",
    "import numpy as np\n",
    "from flask import Flask, request\n",
    "from pymongo import MongoClient\n",
    "from bson.objectid import ObjectId\n",
    "from bson.json_util import dumps\n",
    "import ast\n",
    "import nltk\n",
    "nltk.download('vader_lexicon')\n",
    "from nltk.sentiment.vader import SentimentIntensityAnalyzer\n",
    "from sklearn.feature_extraction.text import CountVectorizer\n",
    "from sklearn.metrics.pairwise import cosine_similarity as distance\n",
    "import seaborn as sns"
   ]
  },
  {
   "cell_type": "code",
   "execution_count": 2,
   "metadata": {},
   "outputs": [],
   "source": [
    "sia = SentimentIntensityAnalyzer()"
   ]
  },
  {
   "cell_type": "code",
   "execution_count": 3,
   "metadata": {},
   "outputs": [],
   "source": [
    "client = MongoClient(\"mongodb://localhost/Conversations\")\n",
    "db = client.get_database()"
   ]
  },
  {
   "cell_type": "markdown",
   "metadata": {},
   "source": [
    "# Recomendador"
   ]
  },
  {
   "cell_type": "code",
   "execution_count": 57,
   "metadata": {
    "scrolled": false
   },
   "outputs": [],
   "source": [
    "# Diccionario con todas las conversaciones\n",
    "\n",
    "\n",
    "groups = list(db['Conversations'].distinct('Group'))\n",
    "dicGroup = {}\n",
    "for group in groups:\n",
    "    convGroup = list(db['Conversations'].find({'Group':group}, {'Message'}))\n",
    "    for dialogue in convGroup[0]['Message']:\n",
    "        dia = {group:dialogue['message']}\n",
    "        dicGroup.update(dia)"
   ]
  },
  {
   "cell_type": "code",
   "execution_count": 72,
   "metadata": {},
   "outputs": [
    {
     "name": "stdout",
     "output_type": "stream",
     "text": [
      "<class 'list'>\n",
      "{'username': 'Bart Simpson', '_id': ObjectId('5e52c725b6fcdc030722c3c0')}\n",
      "{'username': 'Homer Simpson', '_id': ObjectId('5e52c725b6fcdc030722c3c3')}\n",
      "ok\n",
      "{'username': 'Lisa Simpson', '_id': ObjectId('5e52c725b6fcdc030722c3be')}\n",
      "{'username': 'Marge Simpson', '_id': ObjectId('5e52c725b6fcdc030722c3c4')}\n",
      "{'username': 'Martin Prince', '_id': ObjectId('5e52c725b6fcdc030722c3bf')}\n",
      "{'username': 'Milhouse Van Houten', '_id': ObjectId('5e52c725b6fcdc030722c3c2')}\n",
      "{'username': 'Moe Szyslak', '_id': ObjectId('5e52c725b6fcdc030722c3c5')}\n",
      "{'username': 'Nelson Muntz', '_id': ObjectId('5e52c725b6fcdc030722c3c1')}\n"
     ]
    }
   ],
   "source": [
    "username = 'Homer Simpson'\n",
    "users = list(db['Conversations'].distinct('Characters'))\n",
    "print(type(users))\n",
    "for user in users:\n",
    "    print(user)\n",
    "    if username == user['username']:\n",
    "        print('ok')"
   ]
  },
  {
   "cell_type": "code",
   "execution_count": 84,
   "metadata": {},
   "outputs": [],
   "source": [
    "def addMessage(chatname, username, message):\n",
    "    users = list(db['Conversations'].distinct('Characters'))\n",
    "    if db['Conversations'].count_documents({'Group':chatname}, limit = 1) != 0:\n",
    "        for user in users:\n",
    "            if username == user['username']:\n",
    "                i = list(db['Conversations'].find({'Group':chatname}, {'_id':1}))[0]['_id']\n",
    "                query = list(db['Conversations'].update({\"_id\":i},{\"$push\":{\"Message\": {'username': username, 'message': message}}}))\n",
    "                return 'Great. Included'\n",
    "            else:\n",
    "                ValueError(\"User not in the group\")\n",
    "    else:\n",
    "        ValueError(\"Dialogue not added\")"
   ]
  },
  {
   "cell_type": "code",
   "execution_count": null,
   "metadata": {},
   "outputs": [],
   "source": []
  }
 ],
 "metadata": {
  "kernelspec": {
   "display_name": "Python 3",
   "language": "python",
   "name": "python3"
  },
  "language_info": {
   "codemirror_mode": {
    "name": "ipython",
    "version": 3
   },
   "file_extension": ".py",
   "mimetype": "text/x-python",
   "name": "python",
   "nbconvert_exporter": "python",
   "pygments_lexer": "ipython3",
   "version": "3.7.5"
  }
 },
 "nbformat": 4,
 "nbformat_minor": 4
}
