{
 "cells": [
  {
   "cell_type": "code",
   "execution_count": 1,
   "metadata": {},
   "outputs": [
    {
     "name": "stderr",
     "output_type": "stream",
     "text": [
      "[nltk_data] Downloading package vader_lexicon to\n",
      "[nltk_data]     /Users/TryAgain/nltk_data...\n",
      "[nltk_data]   Package vader_lexicon is already up-to-date!\n"
     ]
    }
   ],
   "source": [
    "import pandas as pd\n",
    "import numpy as np\n",
    "from flask import Flask, request\n",
    "from pymongo import MongoClient\n",
    "from bson.objectid import ObjectId\n",
    "from bson.json_util import dumps\n",
    "import ast\n",
    "import nltk\n",
    "nltk.download('vader_lexicon')\n",
    "from nltk.sentiment.vader import SentimentIntensityAnalyzer\n",
    "from sklearn.feature_extraction.text import CountVectorizer\n",
    "from sklearn.metrics.pairwise import cosine_similarity as distance\n",
    "import seaborn as sns"
   ]
  },
  {
   "cell_type": "code",
   "execution_count": 2,
   "metadata": {},
   "outputs": [],
   "source": [
    "sia = SentimentIntensityAnalyzer()"
   ]
  },
  {
   "cell_type": "code",
   "execution_count": 3,
   "metadata": {},
   "outputs": [],
   "source": [
    "client = MongoClient(\"mongodb://localhost/Conversations\")\n",
    "db = client.get_database()"
   ]
  },
  {
   "cell_type": "markdown",
   "metadata": {},
   "source": [
    "# Recomendador"
   ]
  },
  {
   "cell_type": "code",
   "execution_count": 84,
   "metadata": {},
   "outputs": [],
   "source": [
    "#Function to recommend\n",
    "\n",
    "def recommendCharacter(username):\n",
    "    #Dictionary with all conversations\n",
    "    doc = {}\n",
    "    characters = [character['username'] for character in list(db['Conversations'].distinct('Characters'))]\n",
    "    for character in characters:\n",
    "        i = list(list(db['Users'].find({'username': character}, {'_id':1, 'Group':1}))[0].values())\n",
    "        conversation = list(db['Conversations'].find({'Group':i[1]}))[0]['Message']\n",
    "        characConv = []\n",
    "        for dic in conversation:\n",
    "            if dic['username'] == character:\n",
    "                characConv.append(dic['message'])\n",
    "        phrases = ''.join(str(word) for word in characConv)\n",
    "\n",
    "        dic = {character: phrases}\n",
    "        doc.update(dic)\n",
    "        \n",
    "    #Vectorizer\n",
    "    count_vectorizer = CountVectorizer()\n",
    "    sparse_matrix = count_vectorizer.fit_transform(doc.values())\n",
    "    doc_term_matrix = sparse_matrix.todense()\n",
    "    df = pd.DataFrame(doc_term_matrix, \n",
    "              columns=count_vectorizer.get_feature_names(), \n",
    "              index=doc.keys())\n",
    "\n",
    "    #Similarity\n",
    "    similarity_matrix = distance(df,df)\n",
    "    sim_df = pd.DataFrame(similarity_matrix, columns=doc.keys(), index=doc.keys())\n",
    "    np.fill_diagonal(sim_df.values, 0) # Remove diagonal max values and set those to 0\n",
    "    sim_df.idxmax()"
   ]
  },
  {
   "cell_type": "code",
   "execution_count": null,
   "metadata": {},
   "outputs": [],
   "source": []
  }
 ],
 "metadata": {
  "kernelspec": {
   "display_name": "Python 3",
   "language": "python",
   "name": "python3"
  },
  "language_info": {
   "codemirror_mode": {
    "name": "ipython",
    "version": 3
   },
   "file_extension": ".py",
   "mimetype": "text/x-python",
   "name": "python",
   "nbconvert_exporter": "python",
   "pygments_lexer": "ipython3",
   "version": "3.7.5"
  }
 },
 "nbformat": 4,
 "nbformat_minor": 4
}
